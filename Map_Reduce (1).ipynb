{
 "cells": [
  {
   "cell_type": "code",
   "execution_count": 1,
   "id": "27652807",
   "metadata": {},
   "outputs": [],
   "source": [
    "#mapper split\n",
    "q=[]\n",
    "with open(\"host.txt\",'r') as f:\n",
    "    for i in f:\n",
    "        x=i.split()\n",
    "        q.append([x[1],int(x[3])+int(x[4])+int(x[5])+int(x[6])])\n",
    "        "
   ]
  },
  {
   "cell_type": "code",
   "execution_count": 2,
   "id": "ec021ec0",
   "metadata": {},
   "outputs": [
    {
     "data": {
      "text/plain": [
       "[['RangaSwamy', 10500],\n",
       " ['lakshmi', 10000],\n",
       " ['sailaja', 8500],\n",
       " ['chamandi', 17000],\n",
       " ['aruna', 9000],\n",
       " ['swapna', 10500],\n",
       " ['RangaSwamy', 9500],\n",
       " ['lakshmi', 9000],\n",
       " ['sailaja', 7500],\n",
       " ['chamandi', 16000],\n",
       " ['aruna', 8000],\n",
       " ['swapna', 5550],\n",
       " ['RangaSwamy', 10500],\n",
       " ['lakshmi', 10000],\n",
       " ['sailaja', 8500],\n",
       " ['chamandi', 17000],\n",
       " ['aruna', 9000],\n",
       " ['swapna', 10500],\n",
       " ['RangaSwamy', 9500],\n",
       " ['lakshmi', 9000],\n",
       " ['sailaja', 7500],\n",
       " ['chamandi', 16000],\n",
       " ['aruna', 8000],\n",
       " ['swapna', 5550],\n",
       " ['RangaSwamy', 10500],\n",
       " ['lakshmi', 10000],\n",
       " ['sailaja', 8500],\n",
       " ['chamandi', 17000],\n",
       " ['aruna', 9000],\n",
       " ['swapna', 10500]]"
      ]
     },
     "execution_count": 2,
     "metadata": {},
     "output_type": "execute_result"
    }
   ],
   "source": [
    "q"
   ]
  },
  {
   "cell_type": "code",
   "execution_count": 3,
   "id": "29cb73de",
   "metadata": {},
   "outputs": [],
   "source": [
    "#shuffling\n",
    "name=[]\n",
    "for i in q:\n",
    "  name.append(i[0])  "
   ]
  },
  {
   "cell_type": "code",
   "execution_count": 4,
   "id": "4ddf32d7",
   "metadata": {},
   "outputs": [
    {
     "data": {
      "text/plain": [
       "['RangaSwamy',\n",
       " 'lakshmi',\n",
       " 'sailaja',\n",
       " 'chamandi',\n",
       " 'aruna',\n",
       " 'swapna',\n",
       " 'RangaSwamy',\n",
       " 'lakshmi',\n",
       " 'sailaja',\n",
       " 'chamandi',\n",
       " 'aruna',\n",
       " 'swapna',\n",
       " 'RangaSwamy',\n",
       " 'lakshmi',\n",
       " 'sailaja',\n",
       " 'chamandi',\n",
       " 'aruna',\n",
       " 'swapna',\n",
       " 'RangaSwamy',\n",
       " 'lakshmi',\n",
       " 'sailaja',\n",
       " 'chamandi',\n",
       " 'aruna',\n",
       " 'swapna',\n",
       " 'RangaSwamy',\n",
       " 'lakshmi',\n",
       " 'sailaja',\n",
       " 'chamandi',\n",
       " 'aruna',\n",
       " 'swapna']"
      ]
     },
     "execution_count": 4,
     "metadata": {},
     "output_type": "execute_result"
    }
   ],
   "source": [
    "name"
   ]
  },
  {
   "cell_type": "code",
   "execution_count": 5,
   "id": "4fb1043b",
   "metadata": {},
   "outputs": [],
   "source": [
    "name=set(name)"
   ]
  },
  {
   "cell_type": "code",
   "execution_count": 6,
   "id": "4edca8df",
   "metadata": {},
   "outputs": [
    {
     "data": {
      "text/plain": [
       "{'RangaSwamy', 'aruna', 'chamandi', 'lakshmi', 'sailaja', 'swapna'}"
      ]
     },
     "execution_count": 6,
     "metadata": {},
     "output_type": "execute_result"
    }
   ],
   "source": [
    "name"
   ]
  },
  {
   "cell_type": "code",
   "execution_count": 7,
   "id": "8c01e97d",
   "metadata": {},
   "outputs": [],
   "source": [
    "dic={}"
   ]
  },
  {
   "cell_type": "code",
   "execution_count": 8,
   "id": "8f03d965",
   "metadata": {},
   "outputs": [],
   "source": [
    "for i in name:\n",
    "    dic[i]=[]\n",
    "    "
   ]
  },
  {
   "cell_type": "code",
   "execution_count": 9,
   "id": "5272d0ad",
   "metadata": {},
   "outputs": [
    {
     "data": {
      "text/plain": [
       "{'sailaja': [],\n",
       " 'aruna': [],\n",
       " 'chamandi': [],\n",
       " 'lakshmi': [],\n",
       " 'swapna': [],\n",
       " 'RangaSwamy': []}"
      ]
     },
     "execution_count": 9,
     "metadata": {},
     "output_type": "execute_result"
    }
   ],
   "source": [
    "dic"
   ]
  },
  {
   "cell_type": "code",
   "execution_count": 10,
   "id": "8a201440",
   "metadata": {},
   "outputs": [],
   "source": [
    "for i in dic:\n",
    "    for j in q:\n",
    "        if i==j[0]:\n",
    "            dic[i].append(j[1])"
   ]
  },
  {
   "cell_type": "code",
   "execution_count": 11,
   "id": "3a4577ff",
   "metadata": {},
   "outputs": [
    {
     "data": {
      "text/plain": [
       "{'sailaja': [8500, 7500, 8500, 7500, 8500],\n",
       " 'aruna': [9000, 8000, 9000, 8000, 9000],\n",
       " 'chamandi': [17000, 16000, 17000, 16000, 17000],\n",
       " 'lakshmi': [10000, 9000, 10000, 9000, 10000],\n",
       " 'swapna': [10500, 5550, 10500, 5550, 10500],\n",
       " 'RangaSwamy': [10500, 9500, 10500, 9500, 10500]}"
      ]
     },
     "execution_count": 11,
     "metadata": {},
     "output_type": "execute_result"
    }
   ],
   "source": [
    "dic"
   ]
  },
  {
   "cell_type": "code",
   "execution_count": 12,
   "id": "14c0944f",
   "metadata": {},
   "outputs": [],
   "source": [
    "#sorting\n",
    "dic={key: dic[key] for key in sorted(dic)}"
   ]
  },
  {
   "cell_type": "code",
   "execution_count": 13,
   "id": "7c564d52",
   "metadata": {},
   "outputs": [
    {
     "data": {
      "text/plain": [
       "{'RangaSwamy': [10500, 9500, 10500, 9500, 10500],\n",
       " 'aruna': [9000, 8000, 9000, 8000, 9000],\n",
       " 'chamandi': [17000, 16000, 17000, 16000, 17000],\n",
       " 'lakshmi': [10000, 9000, 10000, 9000, 10000],\n",
       " 'sailaja': [8500, 7500, 8500, 7500, 8500],\n",
       " 'swapna': [10500, 5550, 10500, 5550, 10500]}"
      ]
     },
     "execution_count": 13,
     "metadata": {},
     "output_type": "execute_result"
    }
   ],
   "source": [
    "dic"
   ]
  },
  {
   "cell_type": "code",
   "execution_count": 14,
   "id": "4955279e",
   "metadata": {},
   "outputs": [],
   "source": [
    "#reducer\n"
   ]
  },
  {
   "cell_type": "code",
   "execution_count": 15,
   "id": "65c1fdd6",
   "metadata": {},
   "outputs": [],
   "source": [
    "res={}\n",
    "for i in dic:\n",
    "    sum=0\n",
    "    for j in dic[i]:\n",
    "        sum=sum+j\n",
    "    res[i]=sum"
   ]
  },
  {
   "cell_type": "code",
   "execution_count": 16,
   "id": "fd2f9d8d",
   "metadata": {},
   "outputs": [
    {
     "data": {
      "text/plain": [
       "{'RangaSwamy': 50500,\n",
       " 'aruna': 43000,\n",
       " 'chamandi': 83000,\n",
       " 'lakshmi': 48000,\n",
       " 'sailaja': 40500,\n",
       " 'swapna': 42600}"
      ]
     },
     "execution_count": 16,
     "metadata": {},
     "output_type": "execute_result"
    }
   ],
   "source": [
    "res"
   ]
  },
  {
   "cell_type": "code",
   "execution_count": 17,
   "id": "e7ae73d5",
   "metadata": {},
   "outputs": [],
   "source": [
    "#result"
   ]
  },
  {
   "cell_type": "code",
   "execution_count": 18,
   "id": "8e261919",
   "metadata": {},
   "outputs": [
    {
     "data": {
      "text/plain": [
       "'chamandi'"
      ]
     },
     "execution_count": 18,
     "metadata": {},
     "output_type": "execute_result"
    }
   ],
   "source": [
    "max(res, key=res.get)"
   ]
  },
  {
   "cell_type": "code",
   "execution_count": null,
   "id": "8f2ee06c",
   "metadata": {},
   "outputs": [],
   "source": []
  }
 ],
 "metadata": {
  "kernelspec": {
   "display_name": "Python 3 (ipykernel)",
   "language": "python",
   "name": "python3"
  },
  "language_info": {
   "codemirror_mode": {
    "name": "ipython",
    "version": 3
   },
   "file_extension": ".py",
   "mimetype": "text/x-python",
   "name": "python",
   "nbconvert_exporter": "python",
   "pygments_lexer": "ipython3",
   "version": "3.10.9"
  }
 },
 "nbformat": 4,
 "nbformat_minor": 5
}

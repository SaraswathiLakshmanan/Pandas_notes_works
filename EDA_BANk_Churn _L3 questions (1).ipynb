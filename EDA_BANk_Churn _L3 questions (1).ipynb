{
 "cells": [
  {
   "cell_type": "markdown",
   "id": "5e500084",
   "metadata": {},
   "source": [
    "# Level 3 Analysis\n",
    "\n",
    "# The questions below needs to be solved by Trainee_Engineer.\n",
    "\n",
    "- Which age group of women has a larger churn?\n",
    "- Analyze the churn of women customers based on their education level.\n",
    "- Do you think the average Total Transaction amount of women who churned out is different from those who are still with the bank?\n",
    "\n",
    "- Age-wise analysis of those customers whose dependent count is 2 or 3 (Existing and Churned out)\n",
    "- Is there any relation between the number of dependents (2 or 3) and the Education level of customers who are existing and those churned out?\n",
    "- Do you think the column \"Average open to buy\" is affected by the dependent count (2 or3)?\n",
    "\n",
    "- Card Category wise analysis of customers who are high school passouts and churned out.\n",
    "- Income category wise breakdown of customers who are high school passouts and still with the bank.\n",
    "- Present the details of Total Transaction Amount of existing customers who are high school passouts.\n",
    "\n",
    "- \n",
    "\n",
    "- Analysis of education level of customers who are with the bank and those who left(Considering only the customers who are earning less than dollar-40,000).\n",
    "- Analysis of Transaction Amount (mean, median, and mode) made by the existing customers and comparing - with those not existing(Considering only the customers who are earning less than dollar-40,000)\n",
    "- What is the average utilization ratio of the customers who are existing?(Considering only the customers who are earning less than dollar-40,000)\n",
    "\n",
    "- Analysis of the churned out customers who hold the blue card with respect to their Income category.\n",
    "- Analysis of transaction amount (mean, median, mode) for blue card customers who are no longer with the bank and compare it with the existing customers\n",
    "- How is the credit limit of the blue card customers affecting the churn?\n",
    "\n",
    "- Analysis of the dependent count and who are churned out and who are still using the services.\n",
    "- Is there any relation between the Credit limit and attrition of the customers?\n",
    "- What is the average utilization ratio of the credit card for each age sub group between 40 and 50 (we need to group the customers into 4 buckets between 40 and 50)\n",
    "\n",
    "- How are the education level and income category affecting the customer churn?\n",
    "- Identify the churned out customers with high income category, high education level, and high credit limit.\n",
    "\n",
    "- Is there is a relation between the attrition and the age of customers who have the lower utilization ratio?\n",
    "- Analysis of Marital Status and utilization ratio of the customers who are leaving out the bank vs those who are still with the bank.\n",
    "- Is there any relation between the credit limit offered to the customers (having lower utilization Ratio) compared to those who are having a higher utilization ratio?\n"
   ]
  },
  {
   "cell_type": "markdown",
   "id": "b26a708f",
   "metadata": {},
   "source": [
    "# Deeper Analysis¶\n",
    "\n",
    "# These questions needs to be solved by Trainee_Engineer.\n",
    "\n",
    "\n",
    "- #### One could analyze how the education level and age of a customer is affecting \"avg open to buy\" where dependent count is 2 or 3?\n",
    "\n",
    "- One could analyze how the education level within each income category is Affecting the transaction made by the customers who are still with the bank.\n",
    "\n",
    "- One could check if there is any relation between Transaction Amount and Average Utilization Ratio for the existing customers who hold a graduate degree. This analysis can be further extended to all those customers with different education levels (existing and exited separately)\n",
    "\n",
    "- Within each of the age sub groups (4 buckets between 40-50), what is the relation between the Credit limit and Average utilization ratio? We could carry out this analysis separately for those customers who are still with the bank and those who have left the bank.\n",
    "\n",
    "\n",
    "\n",
    "# Business Value\n",
    "- At times, a lot of deeper analysis scenarios might not be useful for the business, even though they might look good from an analysis perspective."
   ]
  },
  {
   "cell_type": "code",
   "execution_count": null,
   "id": "d9e98fb1",
   "metadata": {},
   "outputs": [],
   "source": []
  },
  {
   "cell_type": "code",
   "execution_count": 2,
   "id": "796d4335",
   "metadata": {},
   "outputs": [],
   "source": [
    "l = [10,20,'ABC']"
   ]
  },
  {
   "cell_type": "code",
   "execution_count": 4,
   "id": "ade612cb",
   "metadata": {},
   "outputs": [
    {
     "name": "stdout",
     "output_type": "stream",
     "text": [
      "20   10\n",
      "21   20\n",
      "22   ABC\n"
     ]
    }
   ],
   "source": [
    "for i,j in enumerate(l,20):\n",
    "    print(i ,' ', j)"
   ]
  },
  {
   "cell_type": "code",
   "execution_count": null,
   "id": "72c5e9f7",
   "metadata": {},
   "outputs": [],
   "source": []
  },
  {
   "cell_type": "code",
   "execution_count": null,
   "id": "fb7cd39a",
   "metadata": {},
   "outputs": [],
   "source": []
  },
  {
   "cell_type": "code",
   "execution_count": null,
   "id": "37de4d1c",
   "metadata": {},
   "outputs": [],
   "source": []
  },
  {
   "cell_type": "code",
   "execution_count": null,
   "id": "d82f7c24",
   "metadata": {},
   "outputs": [],
   "source": []
  }
 ],
 "metadata": {
  "kernelspec": {
   "display_name": "Python 3 (ipykernel)",
   "language": "python",
   "name": "python3"
  },
  "language_info": {
   "codemirror_mode": {
    "name": "ipython",
    "version": 3
   },
   "file_extension": ".py",
   "mimetype": "text/x-python",
   "name": "python",
   "nbconvert_exporter": "python",
   "pygments_lexer": "ipython3",
   "version": "3.10.9"
  }
 },
 "nbformat": 4,
 "nbformat_minor": 5
}

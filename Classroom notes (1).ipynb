{
 "cells": [
  {
   "cell_type": "markdown",
   "id": "560445f2",
   "metadata": {},
   "source": [
    "### <center> 21-June-2023 Lambda Functions\n"
   ]
  },
  {
   "cell_type": "code",
   "execution_count": 1,
   "id": "4648d528",
   "metadata": {},
   "outputs": [],
   "source": [
    "x=lambda a:a+10"
   ]
  },
  {
   "cell_type": "code",
   "execution_count": 2,
   "id": "a35cc4d6",
   "metadata": {},
   "outputs": [
    {
     "data": {
      "text/plain": [
       "15"
      ]
     },
     "execution_count": 2,
     "metadata": {},
     "output_type": "execute_result"
    }
   ],
   "source": [
    "x(5)"
   ]
  },
  {
   "cell_type": "raw",
   "id": "da2fbed1",
   "metadata": {},
   "source": [
    "##difference btw lambda and functions defined using def keyword\n",
    "## filter() is a false value but it returns values whih are true"
   ]
  },
  {
   "cell_type": "code",
   "execution_count": 1,
   "id": "51266249",
   "metadata": {},
   "outputs": [
    {
     "name": "stdout",
     "output_type": "stream",
     "text": [
      "[2, 4, 6, 8, 0]\n"
     ]
    }
   ],
   "source": [
    "#lambda with filter\n",
    "\n",
    "list1=[1,2,3,4,5,6,7,8,9,0]\n",
    "\n",
    "a=list(filter(lambda x:x%2==0 , list1))\n",
    "print(a)"
   ]
  },
  {
   "cell_type": "code",
   "execution_count": 4,
   "id": "092fd90a",
   "metadata": {},
   "outputs": [
    {
     "name": "stdout",
     "output_type": "stream",
     "text": [
      "[1, 4, 9, 16, 25, 36, 49, 64, 81, 0]\n"
     ]
    }
   ],
   "source": [
    "#lambda with map\n",
    "\n",
    "b=list(map(lambda x:x**2,list1))\n",
    "print(b)"
   ]
  },
  {
   "cell_type": "code",
   "execution_count": 28,
   "id": "8e86272b",
   "metadata": {
    "scrolled": true
   },
   "outputs": [],
   "source": [
    "#lambda with list comprehension\n",
    "\n",
    "squares=[lambda n:n**2 for n in range(1,3)]\n"
   ]
  },
  {
   "cell_type": "code",
   "execution_count": 29,
   "id": "1a0afdc4",
   "metadata": {},
   "outputs": [
    {
     "name": "stdout",
     "output_type": "stream",
     "text": [
      "[<function <listcomp>.<lambda> at 0x000002CA7288E8C0>, <function <listcomp>.<lambda> at 0x000002CA7288C5E0>]\n"
     ]
    }
   ],
   "source": [
    "print(squares)"
   ]
  },
  {
   "cell_type": "code",
   "execution_count": 30,
   "id": "47e38eb6",
   "metadata": {},
   "outputs": [
    {
     "ename": "TypeError",
     "evalue": "<listcomp>.<lambda>() missing 1 required positional argument: 'n'",
     "output_type": "error",
     "traceback": [
      "\u001b[1;31m---------------------------------------------------------------------------\u001b[0m",
      "\u001b[1;31mTypeError\u001b[0m                                 Traceback (most recent call last)",
      "Cell \u001b[1;32mIn[30], line 2\u001b[0m\n\u001b[0;32m      1\u001b[0m \u001b[38;5;28;01mfor\u001b[39;00m i \u001b[38;5;129;01min\u001b[39;00m squares:\n\u001b[1;32m----> 2\u001b[0m     \u001b[38;5;28mprint\u001b[39m(\u001b[43mi\u001b[49m\u001b[43m(\u001b[49m\u001b[43m)\u001b[49m)\n",
      "\u001b[1;31mTypeError\u001b[0m: <listcomp>.<lambda>() missing 1 required positional argument: 'n'"
     ]
    }
   ],
   "source": [
    "for i in squares:\n",
    "    print(i())"
   ]
  },
  {
   "cell_type": "code",
   "execution_count": null,
   "id": "45972ea4",
   "metadata": {},
   "outputs": [],
   "source": []
  },
  {
   "cell_type": "code",
   "execution_count": 12,
   "id": "1db59588",
   "metadata": {},
   "outputs": [
    {
     "name": "stdout",
     "output_type": "stream",
     "text": [
      "1 4 9 16 25 36 49 64 81 "
     ]
    }
   ],
   "source": [
    "for i in squares:\n",
    "    print(i(),end=' ')"
   ]
  },
  {
   "cell_type": "code",
   "execution_count": 17,
   "id": "1573dcf1",
   "metadata": {},
   "outputs": [],
   "source": [
    "squares =(lambda list1:[n**2 for n in list1])([1,2,3,4,5])"
   ]
  },
  {
   "cell_type": "code",
   "execution_count": 18,
   "id": "73cd96aa",
   "metadata": {},
   "outputs": [
    {
     "data": {
      "text/plain": [
       "[1, 4, 9, 16, 25]"
      ]
     },
     "execution_count": 18,
     "metadata": {},
     "output_type": "execute_result"
    }
   ],
   "source": [
    "squares"
   ]
  },
  {
   "cell_type": "code",
   "execution_count": 34,
   "id": "18aa5493",
   "metadata": {},
   "outputs": [
    {
     "ename": "TypeError",
     "evalue": "'generator' object is not callable",
     "output_type": "error",
     "traceback": [
      "\u001b[1;31m---------------------------------------------------------------------------\u001b[0m",
      "\u001b[1;31mTypeError\u001b[0m                                 Traceback (most recent call last)",
      "Cell \u001b[1;32mIn[34], line 2\u001b[0m\n\u001b[0;32m      1\u001b[0m a\u001b[38;5;241m=\u001b[39m(\u001b[38;5;28;01mlambda\u001b[39;00m x:x\u001b[38;5;241m*\u001b[39mx \u001b[38;5;28;01mfor\u001b[39;00m x \u001b[38;5;129;01min\u001b[39;00m \u001b[38;5;28mrange\u001b[39m(\u001b[38;5;241m1\u001b[39m,\u001b[38;5;241m10\u001b[39m))\n\u001b[1;32m----> 2\u001b[0m b\u001b[38;5;241m=\u001b[39m\u001b[43ma\u001b[49m\u001b[43m(\u001b[49m\u001b[43m)\u001b[49m\n\u001b[0;32m      3\u001b[0m \u001b[38;5;28mprint\u001b[39m(b)\n",
      "\u001b[1;31mTypeError\u001b[0m: 'generator' object is not callable"
     ]
    }
   ],
   "source": [
    "a=(lambda x:x*x for x in range(1,10))\n",
    "print(b)"
   ]
  },
  {
   "cell_type": "code",
   "execution_count": 35,
   "id": "9ca8498e",
   "metadata": {},
   "outputs": [],
   "source": [
    "mylist=[[1,3,4,5],[4,8,9,10],[15,16,11,12]]"
   ]
  },
  {
   "cell_type": "code",
   "execution_count": 54,
   "id": "7fa26021",
   "metadata": {},
   "outputs": [],
   "source": [
    "sortedlist=lambda num:(sorted(n) for n in num)\n",
    "\n",
    "tLargest=lambda num,func:[l[len(l)-2] for l in func(num)]"
   ]
  },
  {
   "cell_type": "code",
   "execution_count": 55,
   "id": "e2419dad",
   "metadata": {},
   "outputs": [],
   "source": [
    "result=tLargest(mylist,sortedlist)"
   ]
  },
  {
   "cell_type": "code",
   "execution_count": 56,
   "id": "933c6828",
   "metadata": {},
   "outputs": [
    {
     "name": "stdout",
     "output_type": "stream",
     "text": [
      "[1, 3, 4, 5]\n",
      "[4, 8, 9, 10]\n",
      "[11, 12, 15, 16]\n"
     ]
    }
   ],
   "source": [
    "for i in sortedlist(mylist):\n",
    "    print(i)"
   ]
  },
  {
   "cell_type": "code",
   "execution_count": 57,
   "id": "19583974",
   "metadata": {},
   "outputs": [
    {
     "name": "stdout",
     "output_type": "stream",
     "text": [
      "[4, 9, 15]\n"
     ]
    }
   ],
   "source": [
    "print(result)"
   ]
  },
  {
   "cell_type": "markdown",
   "id": "8173f40a",
   "metadata": {},
   "source": [
    "# Recursion function"
   ]
  },
  {
   "cell_type": "code",
   "execution_count": 58,
   "id": "2554455e",
   "metadata": {},
   "outputs": [],
   "source": [
    "def refact(n):\n",
    "    if n==0:\n",
    "        return 1 \n",
    "    else:\n",
    "        p=n*refact(n-1)\n",
    "        return p"
   ]
  },
  {
   "cell_type": "code",
   "execution_count": 59,
   "id": "0e5260c6",
   "metadata": {},
   "outputs": [
    {
     "name": "stdout",
     "output_type": "stream",
     "text": [
      "CDGYJUKIOIKUJYTRFERTYT\n"
     ]
    }
   ],
   "source": [
    "#Creating a higher order function using function as object\n",
    "\n",
    "def spell(text):\n",
    "    return text.upper()\n",
    "text='cdgyjukioikujytrfertyt'\n",
    "\n",
    "spell2=spell\n",
    "print(spell2(text))"
   ]
  },
  {
   "cell_type": "code",
   "execution_count": 61,
   "id": "c355de95",
   "metadata": {},
   "outputs": [
    {
     "name": "stdout",
     "output_type": "stream",
     "text": [
      "FUNCTION AS PARAMETER\n"
     ]
    }
   ],
   "source": [
    "#Creating a higher order function using function as parameters\n",
    "\n",
    "def spell1(text):\n",
    "    return text.lower()\n",
    "\n",
    "def spell2(text):\n",
    "    return text.upper()\n",
    "def spell3(func,a):\n",
    "    return func(a)\n",
    "\n",
    "print(spell3(spell2,'function as parameter'))\n",
    "\n",
    "    "
   ]
  },
  {
   "cell_type": "code",
   "execution_count": 62,
   "id": "ad7b60f7",
   "metadata": {},
   "outputs": [],
   "source": [
    "#returning a function as a result in higher order function\n",
    "\n",
    "def adding(a):\n",
    "    def addition(b):\n",
    "        return a+b\n",
    "    return addition"
   ]
  },
  {
   "cell_type": "code",
   "execution_count": 63,
   "id": "a11908f2",
   "metadata": {},
   "outputs": [
    {
     "name": "stdout",
     "output_type": "stream",
     "text": [
      "3\n",
      "5\n"
     ]
    }
   ],
   "source": [
    "result=adding(int(input()))\n",
    "result1=result(int(input()))\n"
   ]
  },
  {
   "cell_type": "code",
   "execution_count": 64,
   "id": "7d2d95c3",
   "metadata": {},
   "outputs": [
    {
     "name": "stdout",
     "output_type": "stream",
     "text": [
      "8\n"
     ]
    }
   ],
   "source": [
    "print(result1)"
   ]
  },
  {
   "cell_type": "markdown",
   "id": "4520a684",
   "metadata": {},
   "source": [
    "# <center> 22-June-2023 "
   ]
  },
  {
   "cell_type": "code",
   "execution_count": 1,
   "id": "b0409368",
   "metadata": {},
   "outputs": [],
   "source": [
    "# Creating a dictionary\n",
    "\n",
    "dictionary1={}\n",
    "dictionary2=dict()"
   ]
  },
  {
   "cell_type": "code",
   "execution_count": 2,
   "id": "50b63610",
   "metadata": {},
   "outputs": [
    {
     "name": "stdout",
     "output_type": "stream",
     "text": [
      "{'key': 'value', 'name': 'sunny'}\n"
     ]
    }
   ],
   "source": [
    "# Creating dict from list\n",
    "\n",
    "dictionary3=dict([('key','value'),('name','sunny')])\n",
    "print(dictionary3)"
   ]
  },
  {
   "cell_type": "code",
   "execution_count": 3,
   "id": "2533a4b2",
   "metadata": {},
   "outputs": [],
   "source": [
    "#Adding set of values using single key\n",
    "\n",
    "dictionary3[0]='S','A'\n",
    "dictionary3[1]='Des','thr','prev','len' #these are taken as tuples"
   ]
  },
  {
   "cell_type": "code",
   "execution_count": 4,
   "id": "1d6b7c8f",
   "metadata": {},
   "outputs": [
    {
     "data": {
      "text/plain": [
       "{'key': 'value',\n",
       " 'name': 'sunny',\n",
       " 0: ('S', 'A'),\n",
       " 1: ('Des', 'thr', 'prev', 'len')}"
      ]
     },
     "execution_count": 4,
     "metadata": {},
     "output_type": "execute_result"
    }
   ],
   "source": [
    "dictionary3"
   ]
  },
  {
   "cell_type": "code",
   "execution_count": 5,
   "id": "8f45f654",
   "metadata": {},
   "outputs": [
    {
     "name": "stdout",
     "output_type": "stream",
     "text": [
      "key1 value1\n",
      "key2 value2\n"
     ]
    }
   ],
   "source": [
    "#creating dict using user input\n",
    "\n",
    "dictionary4={}\n",
    "a,b=input().split()\n",
    "c,d=input().split()\n",
    "dictionary4[a]=b\n",
    "dictionary4[c]=d"
   ]
  },
  {
   "cell_type": "code",
   "execution_count": 6,
   "id": "70854f54",
   "metadata": {},
   "outputs": [
    {
     "data": {
      "text/plain": [
       "{'key1': 'value1', 'key2': 'value2'}"
      ]
     },
     "execution_count": 6,
     "metadata": {},
     "output_type": "execute_result"
    }
   ],
   "source": [
    "dictionary4"
   ]
  },
  {
   "cell_type": "code",
   "execution_count": 8,
   "id": "5ba5a151",
   "metadata": {},
   "outputs": [
    {
     "data": {
      "text/plain": [
       "{'key1': 'value1'}"
      ]
     },
     "execution_count": 8,
     "metadata": {},
     "output_type": "execute_result"
    }
   ],
   "source": [
    "#deleting using del keyword\n",
    "\n",
    "del dictionary4['key2']\n",
    "dictionary4"
   ]
  },
  {
   "cell_type": "code",
   "execution_count": 9,
   "id": "b1abc5c8",
   "metadata": {},
   "outputs": [],
   "source": [
    "dictionary5={}\n",
    "del dictionary5"
   ]
  },
  {
   "cell_type": "code",
   "execution_count": 11,
   "id": "71016471",
   "metadata": {},
   "outputs": [
    {
     "data": {
      "text/plain": [
       "('S', 'A')"
      ]
     },
     "execution_count": 11,
     "metadata": {},
     "output_type": "execute_result"
    }
   ],
   "source": [
    "#deleting using pop method\n",
    "\n",
    "dictionary3.pop(0) # it returns the value and delete it from dictionary"
   ]
  },
  {
   "cell_type": "code",
   "execution_count": 13,
   "id": "3a391991",
   "metadata": {},
   "outputs": [
    {
     "data": {
      "text/plain": [
       "{'key': 'value', 'name': 'sunny', 1: ('Des', 'thr', 'prev', 'len')}"
      ]
     },
     "execution_count": 13,
     "metadata": {},
     "output_type": "execute_result"
    }
   ],
   "source": [
    "dictionary3"
   ]
  },
  {
   "cell_type": "code",
   "execution_count": 14,
   "id": "2febcf30",
   "metadata": {},
   "outputs": [
    {
     "data": {
      "text/plain": [
       "('key1', 'value1')"
      ]
     },
     "execution_count": 14,
     "metadata": {},
     "output_type": "execute_result"
    }
   ],
   "source": [
    "# delete using popitem() # it mainly pops the last item but it can delete random item even (computer's choice)\n",
    "                         # returns both key and value , deletes it from dictionary \n",
    "\n",
    "dictionary4.popitem()\n"
   ]
  },
  {
   "cell_type": "code",
   "execution_count": 16,
   "id": "4fe4132e",
   "metadata": {},
   "outputs": [
    {
     "data": {
      "text/plain": [
       "{}"
      ]
     },
     "execution_count": 16,
     "metadata": {},
     "output_type": "execute_result"
    }
   ],
   "source": [
    "dictionary4"
   ]
  },
  {
   "cell_type": "code",
   "execution_count": 17,
   "id": "2ecce6c2",
   "metadata": {},
   "outputs": [],
   "source": [
    "# remove items using clear method\n",
    "\n",
    "dictionary2.clear()"
   ]
  },
  {
   "cell_type": "code",
   "execution_count": 18,
   "id": "e45ba4f5",
   "metadata": {},
   "outputs": [
    {
     "data": {
      "text/plain": [
       "{}"
      ]
     },
     "execution_count": 18,
     "metadata": {},
     "output_type": "execute_result"
    }
   ],
   "source": [
    "dictionary2"
   ]
  },
  {
   "cell_type": "code",
   "execution_count": 19,
   "id": "96f08de4",
   "metadata": {},
   "outputs": [],
   "source": [
    "# itertion using loops\n",
    "\n",
    "d={'Name':'Donald' ,'Age':24,'Salary':1000000,'Designation':'Engineer'}"
   ]
  },
  {
   "cell_type": "code",
   "execution_count": 20,
   "id": "172ff7b6",
   "metadata": {},
   "outputs": [
    {
     "name": "stdout",
     "output_type": "stream",
     "text": [
      "Name\n",
      "Age\n",
      "Salary\n",
      "Designation\n"
     ]
    }
   ],
   "source": [
    "for i in d:\n",
    "    print(i)  # returns key"
   ]
  },
  {
   "cell_type": "code",
   "execution_count": 21,
   "id": "9b8c991a",
   "metadata": {},
   "outputs": [
    {
     "name": "stdout",
     "output_type": "stream",
     "text": [
      "Donald\n",
      "24\n",
      "1000000\n",
      "Engineer\n"
     ]
    }
   ],
   "source": [
    "for i in d:\n",
    "    print(d[i])   # returns value"
   ]
  },
  {
   "cell_type": "code",
   "execution_count": 22,
   "id": "a1013144",
   "metadata": {},
   "outputs": [
    {
     "name": "stdout",
     "output_type": "stream",
     "text": [
      "Donald\n",
      "24\n",
      "1000000\n",
      "Engineer\n"
     ]
    }
   ],
   "source": [
    "for i in d.values():\n",
    "    print(i)"
   ]
  },
  {
   "cell_type": "code",
   "execution_count": 24,
   "id": "7b410a21",
   "metadata": {},
   "outputs": [
    {
     "name": "stdout",
     "output_type": "stream",
     "text": [
      "('Name', 'Donald')\n",
      "('Age', 24)\n",
      "('Salary', 1000000)\n",
      "('Designation', 'Engineer')\n"
     ]
    }
   ],
   "source": [
    "for i in d.items():\n",
    "    print(i)        # both keys and values in tuples"
   ]
  },
  {
   "cell_type": "code",
   "execution_count": 25,
   "id": "26be34d1",
   "metadata": {},
   "outputs": [
    {
     "name": "stdout",
     "output_type": "stream",
     "text": [
      "Name Donald\n",
      "Age 24\n",
      "Salary 1000000\n",
      "Designation Engineer\n"
     ]
    }
   ],
   "source": [
    "for i,j in d.items():\n",
    "    print(i,j)     #prints value seperatedly"
   ]
  },
  {
   "cell_type": "code",
   "execution_count": 26,
   "id": "c422102c",
   "metadata": {},
   "outputs": [
    {
     "name": "stdout",
     "output_type": "stream",
     "text": [
      "{'name': 'sachu'}\n"
     ]
    }
   ],
   "source": [
    "# dictionary can have same key names but it will consider only the last value for it , it will override\n",
    "\n",
    "d={'name':'Sara','name':'sachu'}\n",
    "print(d)"
   ]
  },
  {
   "cell_type": "code",
   "execution_count": 27,
   "id": "46bd89e8",
   "metadata": {},
   "outputs": [
    {
     "data": {
      "text/plain": [
       "True"
      ]
     },
     "execution_count": 27,
     "metadata": {},
     "output_type": "execute_result"
    }
   ],
   "source": [
    "#any - checks any one key is true\n",
    "any(d)"
   ]
  },
  {
   "cell_type": "code",
   "execution_count": 28,
   "id": "3cb9e6af",
   "metadata": {},
   "outputs": [
    {
     "data": {
      "text/plain": [
       "True"
      ]
     },
     "execution_count": 28,
     "metadata": {},
     "output_type": "execute_result"
    }
   ],
   "source": [
    "#all - checks all keys is true \n",
    "all(dictionary1)"
   ]
  },
  {
   "cell_type": "code",
   "execution_count": 29,
   "id": "0b915d50",
   "metadata": {},
   "outputs": [],
   "source": [
    "#copy\n",
    "d={1:'apple',2:'banana'}\n",
    "dict2=d.copy()"
   ]
  },
  {
   "cell_type": "code",
   "execution_count": 30,
   "id": "d2a475be",
   "metadata": {},
   "outputs": [
    {
     "data": {
      "text/plain": [
       "{1: 'apple', 2: 'banana'}"
      ]
     },
     "execution_count": 30,
     "metadata": {},
     "output_type": "execute_result"
    }
   ],
   "source": [
    "dict2"
   ]
  },
  {
   "cell_type": "code",
   "execution_count": 31,
   "id": "f9778029",
   "metadata": {},
   "outputs": [
    {
     "data": {
      "text/plain": [
       "'apple'"
      ]
     },
     "execution_count": 31,
     "metadata": {},
     "output_type": "execute_result"
    }
   ],
   "source": [
    "dict2.get(1)"
   ]
  },
  {
   "cell_type": "code",
   "execution_count": 32,
   "id": "ffdccef6",
   "metadata": {},
   "outputs": [
    {
     "data": {
      "text/plain": [
       "{1: 'apple', 2: 'samsung'}"
      ]
     },
     "execution_count": 32,
     "metadata": {},
     "output_type": "execute_result"
    }
   ],
   "source": [
    "#update takes only dictionary\n",
    "\n",
    "dict2.update({2:'samsung'})\n",
    "dict2"
   ]
  },
  {
   "cell_type": "code",
   "execution_count": 33,
   "id": "2652c230",
   "metadata": {},
   "outputs": [],
   "source": [
    "#keys are immutable but in order to change the key use pop \n",
    "#order wont be maintained\n",
    "\n",
    "dict2[3]=dict2.pop(2)"
   ]
  },
  {
   "cell_type": "code",
   "execution_count": 34,
   "id": "6dd2a947",
   "metadata": {},
   "outputs": [
    {
     "data": {
      "text/plain": [
       "{1: 'apple', 3: 'samsung'}"
      ]
     },
     "execution_count": 34,
     "metadata": {},
     "output_type": "execute_result"
    }
   ],
   "source": [
    "dict2"
   ]
  },
  {
   "cell_type": "code",
   "execution_count": 35,
   "id": "4ef8d5af",
   "metadata": {},
   "outputs": [],
   "source": [
    "#nested dictionary\n",
    "\n",
    "student={'name':'Mathew','age':20,'grades':{'DS':90,'Dbms':80,'Oops':98}}"
   ]
  },
  {
   "cell_type": "code",
   "execution_count": 37,
   "id": "8cb5aee6",
   "metadata": {},
   "outputs": [
    {
     "data": {
      "text/plain": [
       "90"
      ]
     },
     "execution_count": 37,
     "metadata": {},
     "output_type": "execute_result"
    }
   ],
   "source": [
    "student['grades']['DS']"
   ]
  },
  {
   "cell_type": "code",
   "execution_count": 38,
   "id": "244af644",
   "metadata": {},
   "outputs": [],
   "source": [
    "student['grades']['OS']=89"
   ]
  },
  {
   "cell_type": "code",
   "execution_count": 39,
   "id": "56637f88",
   "metadata": {},
   "outputs": [
    {
     "data": {
      "text/plain": [
       "{'name': 'Mathew',\n",
       " 'age': 20,\n",
       " 'grades': {'DS': 90, 'Dbms': 80, 'Oops': 98, 'OS': 89}}"
      ]
     },
     "execution_count": 39,
     "metadata": {},
     "output_type": "execute_result"
    }
   ],
   "source": [
    "student"
   ]
  },
  {
   "cell_type": "code",
   "execution_count": 40,
   "id": "3db30bf6",
   "metadata": {},
   "outputs": [
    {
     "name": "stdout",
     "output_type": "stream",
     "text": [
      "DS\n",
      "Dbms\n",
      "Oops\n",
      "OS\n"
     ]
    }
   ],
   "source": [
    "#Iterating over a nested dictionary\n",
    "\n",
    "for i in student['grades']:\n",
    "    print(i)"
   ]
  },
  {
   "cell_type": "code",
   "execution_count": 43,
   "id": "cd3664ef",
   "metadata": {},
   "outputs": [
    {
     "name": "stdout",
     "output_type": "stream",
     "text": [
      "[(1, 'a'), (2, 'b'), (3, 'c'), (4, 'd')]\n"
     ]
    }
   ],
   "source": [
    "#zip\n",
    "\n",
    "l1=[1,2,3,4,5]\n",
    "l2=['a','b','c','d']\n",
    "\n",
    "print(list(zip(l1,l2)))"
   ]
  },
  {
   "cell_type": "code",
   "execution_count": 45,
   "id": "00e188d7",
   "metadata": {},
   "outputs": [
    {
     "name": "stdout",
     "output_type": "stream",
     "text": [
      "{'1': '2'}\n"
     ]
    }
   ],
   "source": [
    "print(dict(zip('1','2')))"
   ]
  },
  {
   "cell_type": "code",
   "execution_count": null,
   "id": "156adefe",
   "metadata": {},
   "outputs": [],
   "source": []
  }
 ],
 "metadata": {
  "kernelspec": {
   "display_name": "Python 3 (ipykernel)",
   "language": "python",
   "name": "python3"
  },
  "language_info": {
   "codemirror_mode": {
    "name": "ipython",
    "version": 3
   },
   "file_extension": ".py",
   "mimetype": "text/x-python",
   "name": "python",
   "nbconvert_exporter": "python",
   "pygments_lexer": "ipython3",
   "version": "3.10.9"
  }
 },
 "nbformat": 4,
 "nbformat_minor": 5
}

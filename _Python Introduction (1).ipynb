{
 "cells": [
  {
   "cell_type": "markdown",
   "id": "3196f652",
   "metadata": {},
   "source": [
    "# <center>June-19 Heading format"
   ]
  },
  {
   "cell_type": "markdown",
   "id": "249d75e5",
   "metadata": {},
   "source": [
    "### cntrl+enter to run"
   ]
  },
  {
   "cell_type": "markdown",
   "id": "cd2f7c8b",
   "metadata": {},
   "source": [
    "### Program to find the sum of two numbers"
   ]
  },
  {
   "cell_type": "code",
   "execution_count": 2,
   "id": "2ba2b105",
   "metadata": {},
   "outputs": [
    {
     "name": "stdout",
     "output_type": "stream",
     "text": [
      "2\n",
      "4\n"
     ]
    }
   ],
   "source": [
    "a=int(input())\n",
    "b=int(input())"
   ]
  },
  {
   "cell_type": "code",
   "execution_count": 3,
   "id": "295944e6",
   "metadata": {},
   "outputs": [
    {
     "name": "stdout",
     "output_type": "stream",
     "text": [
      "6\n"
     ]
    }
   ],
   "source": [
    "print(a+b)"
   ]
  },
  {
   "cell_type": "markdown",
   "id": "89dc3091",
   "metadata": {},
   "source": [
    "### Program to check whether odd or even"
   ]
  },
  {
   "cell_type": "code",
   "execution_count": 4,
   "id": "04d6e96d",
   "metadata": {},
   "outputs": [
    {
     "name": "stdout",
     "output_type": "stream",
     "text": [
      "192000029\n",
      "Odd\n"
     ]
    }
   ],
   "source": [
    "a=int(input())\n",
    "if a%2==0:\n",
    "    print(\"Even\")\n",
    "else:\n",
    "    print(\"Odd\")"
   ]
  },
  {
   "cell_type": "markdown",
   "id": "074216d3",
   "metadata": {},
   "source": [
    "### Program to convert celsius to Fahrenheit"
   ]
  },
  {
   "cell_type": "code",
   "execution_count": 8,
   "id": "878f5b96",
   "metadata": {},
   "outputs": [
    {
     "name": "stdout",
     "output_type": "stream",
     "text": [
      "360\n",
      "Fahrenheit =680.0\n"
     ]
    }
   ],
   "source": [
    "a=float(input())\n",
    "print(\"Fahrenheit =\"+str((a*1.8)+32))"
   ]
  },
  {
   "cell_type": "markdown",
   "id": "bf3b60bb",
   "metadata": {},
   "source": [
    "### Program to find the largest among three numbers"
   ]
  },
  {
   "cell_type": "code",
   "execution_count": 7,
   "id": "a79e4300",
   "metadata": {},
   "outputs": [
    {
     "name": "stdout",
     "output_type": "stream",
     "text": [
      "4 35 5\n",
      "35 is greater\n"
     ]
    }
   ],
   "source": [
    "a,b,c=map(int,input().split())\n",
    "if a>b and a>c:\n",
    "    print(str(a)+\" is greater\")\n",
    "elif b>a and b>c:\n",
    "    print(str(b)+\" is greater\")\n",
    "else:\n",
    "    print(str(c)+\" is greater\")\n",
    "    "
   ]
  },
  {
   "cell_type": "markdown",
   "id": "0b1bc146",
   "metadata": {},
   "source": [
    "### Program to print the Fibonacci sequence up to a given number"
   ]
  },
  {
   "cell_type": "code",
   "execution_count": 15,
   "id": "fb549e17",
   "metadata": {},
   "outputs": [
    {
     "name": "stdout",
     "output_type": "stream",
     "text": [
      "5\n",
      "[0, 1, 1, 2, 3, 5, 8]\n"
     ]
    }
   ],
   "source": [
    "a=int(input())\n",
    "b=[0,1]\n",
    "total,i=0,0\n",
    "while i<a:\n",
    "    total=b[i]+b[i+1]\n",
    "    b.append(total)\n",
    "    i=i+1\n",
    "print(b)\n",
    "    "
   ]
  },
  {
   "cell_type": "markdown",
   "id": "daaf5ac4",
   "metadata": {},
   "source": [
    "### Program to find the factorial of a given number"
   ]
  },
  {
   "cell_type": "code",
   "execution_count": 18,
   "id": "662de1a3",
   "metadata": {},
   "outputs": [
    {
     "name": "stdout",
     "output_type": "stream",
     "text": [
      "3\n",
      "6\n"
     ]
    }
   ],
   "source": [
    "a=int(input())\n",
    "b=1\n",
    "for i in range(1,a+1):\n",
    "    b=b*i\n",
    "print(b)"
   ]
  },
  {
   "cell_type": "markdown",
   "id": "eeba862a",
   "metadata": {},
   "source": [
    "### Program to check whether a given string is palindrome or not"
   ]
  },
  {
   "cell_type": "code",
   "execution_count": 20,
   "id": "b803406b",
   "metadata": {},
   "outputs": [
    {
     "name": "stdout",
     "output_type": "stream",
     "text": [
      "acret\n",
      "Not a palindrome\n"
     ]
    }
   ],
   "source": [
    "a=input()\n",
    "if(a==a[::-1]):\n",
    "    print(\"Palindrome\")\n",
    "else:\n",
    "    print(\"Not a palindrome\")\n",
    "    "
   ]
  },
  {
   "cell_type": "markdown",
   "id": "41d6226e",
   "metadata": {},
   "source": [
    "### Program to count the vowels in a given string"
   ]
  },
  {
   "cell_type": "code",
   "execution_count": 26,
   "id": "6d7b13d8",
   "metadata": {},
   "outputs": [
    {
     "name": "stdout",
     "output_type": "stream",
     "text": [
      "AeiuoaEIOU\n",
      "10\n"
     ]
    }
   ],
   "source": [
    "a=input()\n",
    "b=[\"a\",\"e\",\"i\",\"o\",\"u\"]\n",
    "a=a.lower()\n",
    "c=0\n",
    "for i in a:\n",
    "    if i in b:\n",
    "        c=c+1\n",
    "print(c)"
   ]
  },
  {
   "cell_type": "markdown",
   "id": "ea0d1a96",
   "metadata": {},
   "source": [
    "### Program to print multiplication table of a given number"
   ]
  },
  {
   "cell_type": "code",
   "execution_count": 65,
   "id": "770a955c",
   "metadata": {},
   "outputs": [
    {
     "name": "stdout",
     "output_type": "stream",
     "text": [
      "5\n",
      "5*1=5\n",
      "5*2=10\n",
      "5*3=15\n",
      "5*4=20\n",
      "5*5=25\n",
      "5*6=30\n",
      "5*7=35\n",
      "5*8=40\n",
      "5*9=45\n",
      "5*10=50\n"
     ]
    }
   ],
   "source": [
    "a=int(input())\n",
    "for i in range(1,11):\n",
    "    print(str(a)+\"*\"+str(i)+\"=\"+str(a*i))\n",
    "    "
   ]
  },
  {
   "cell_type": "markdown",
   "id": "f2ed8a3d",
   "metadata": {},
   "source": [
    "### Heading as comments from here"
   ]
  },
  {
   "cell_type": "code",
   "execution_count": 66,
   "id": "a05bb9ee",
   "metadata": {},
   "outputs": [
    {
     "name": "stdout",
     "output_type": "stream",
     "text": [
      "5\n",
      "4\n",
      "3\n",
      "2\n",
      "1\n"
     ]
    }
   ],
   "source": [
    "#List reverse \n",
    "a=[1,2,3,4,5]\n",
    "for i in range(len(a)-1,-1,-1):\n",
    "    print(a[i])"
   ]
  },
  {
   "cell_type": "code",
   "execution_count": 46,
   "id": "e6cf711a",
   "metadata": {},
   "outputs": [
    {
     "name": "stdout",
     "output_type": "stream",
     "text": [
      "[3, 5, 7, 9, 11, 13, 15, 17, 19, 21]\n"
     ]
    }
   ],
   "source": [
    "#print odd using even list\n",
    "l=[]\n",
    "for i in range(2,21,2):\n",
    "    l.append(i)\n",
    "''''print(*l)\n",
    "for i in l:\n",
    "    print(i+1)'''\n",
    "c= [i+1 for i in l]\n",
    "print(c)"
   ]
  },
  {
   "cell_type": "code",
   "execution_count": 56,
   "id": "97c23ef4",
   "metadata": {},
   "outputs": [
    {
     "name": "stdout",
     "output_type": "stream",
     "text": [
      "\n",
      "* \n",
      "* * \n",
      "* * * \n",
      "* * * * \n"
     ]
    }
   ],
   "source": [
    "#pattern\n",
    "for i in range(0,5):\n",
    "    print(i*\"* \")"
   ]
  },
  {
   "cell_type": "code",
   "execution_count": 59,
   "id": "186c2830",
   "metadata": {},
   "outputs": [
    {
     "name": "stdout",
     "output_type": "stream",
     "text": [
      "90\n",
      "True\n"
     ]
    }
   ],
   "source": [
    "#even and positive\n",
    "a=int(input())\n",
    "print(\"True\" if a%2==0 and a>0 else \"False\")"
   ]
  },
  {
   "cell_type": "code",
   "execution_count": 63,
   "id": "f32f3852",
   "metadata": {},
   "outputs": [
    {
     "name": "stdout",
     "output_type": "stream",
     "text": [
      "90\n",
      "Congratulations!your grade is A\n"
     ]
    }
   ],
   "source": [
    "#grade\n",
    "marks=int(input())\n",
    "if(marks>=90):\n",
    "    print(\"Congratulations!your grade is A\")\n",
    "elif(marks<=89 and marks>80):\n",
    "    print(\"Congratulations!your grade is B\")\n",
    "elif(marks<=79 and marks>70):\n",
    "    print(\"Congratulations!your grade is C\")\n",
    "elif(marks<=69 and marks>55):\n",
    "    print(\"Congratulations!your grade is D\")\n",
    "else:\n",
    "    print(\"You have failed in this course !try again\")"
   ]
  },
  {
   "cell_type": "code",
   "execution_count": 62,
   "id": "b2211e3f",
   "metadata": {},
   "outputs": [
    {
     "name": "stdout",
     "output_type": "stream",
     "text": [
      "2014\n",
      "Year is neither a leap year nor a century year\n"
     ]
    }
   ],
   "source": [
    "#leap and century year\n",
    "year=int(input())\n",
    "if(year%4==0 and year%100==0 and year%400==0):\n",
    "    print(\"Year is Leap and Century year\")\n",
    "elif(year%4==0 and year%100!=0):\n",
    "    print(\"Year is leap year but not a century year\")\n",
    "elif(year%4!=0 and year%100==0):\n",
    "    print(\"Year is not a leap year but a century year\")\n",
    "else:\n",
    "    print(\"Year is neither a leap year nor a century year\")   "
   ]
  },
  {
   "cell_type": "code",
   "execution_count": 72,
   "id": "24ee87b0",
   "metadata": {},
   "outputs": [
    {
     "name": "stdout",
     "output_type": "stream",
     "text": [
      "23 female\n",
      "You are a young woman\n"
     ]
    }
   ],
   "source": [
    "#Gender and Age\n",
    "age,gender=map(str,input().split())\n",
    "age=int(age)\n",
    "gender=gender.lower()\n",
    "if(gender==\"male\"):\n",
    "    if(age<18):\n",
    "        print(\"You are a boy\")\n",
    "    elif(30>age>=18):\n",
    "        print(\"You are a young man\")\n",
    "    elif(50>age>=30):\n",
    "        print(\"You are a man in your prime\")\n",
    "    else:\n",
    "        print(\"You are a wise old man\")\n",
    "else:\n",
    "    if(age<18):\n",
    "        print(\"You are a girl\")\n",
    "    elif(30>age>=18):\n",
    "        print(\"You are a young woman\")\n",
    "    elif(50>age>=30):\n",
    "        print(\"You are a woman in your prime\")\n",
    "    else:\n",
    "        print(\"You are a wise old woman\")"
   ]
  },
  {
   "cell_type": "code",
   "execution_count": 73,
   "id": "2ff2f502",
   "metadata": {},
   "outputs": [
    {
     "name": "stdout",
     "output_type": "stream",
     "text": [
      "1 2 Fizz 4 Buzz Fizz 7 8 Fizz Buzz 11 Fizz 13 14 FizzBuzz 16 17 Fizz 19 Buzz Fizz 22 23 Fizz Buzz 26 Fizz 28 29 FizzBuzz 31 32 Fizz 34 Buzz Fizz 37 38 Fizz Buzz 41 Fizz 43 44 FizzBuzz 46 47 Fizz 49 Buzz "
     ]
    }
   ],
   "source": [
    "# 3 fizz 5 buzz 3-5 FizzBuzz or number\n",
    "for i in range(1,51):\n",
    "    if(i%3==0 and i%5!=0):\n",
    "        print(\"Fizz\",end=' ')\n",
    "    elif(i%3!=0 and i%5==0):\n",
    "        print(\"Buzz\",end=' ')\n",
    "    elif(i%3==0 and i%5==0):\n",
    "        print(\"FizzBuzz\",end=' ')\n",
    "    else:\n",
    "        print(i,end=' ')"
   ]
  },
  {
   "cell_type": "code",
   "execution_count": 88,
   "id": "559b469d",
   "metadata": {},
   "outputs": [
    {
     "name": "stdout",
     "output_type": "stream",
     "text": [
      "Delhi Dehradun Denver\n"
     ]
    }
   ],
   "source": [
    "#check if first letter is 'D'\n",
    "list1=['Delhi','Kolkata','Dehradun','Bangalore','Hyderabad','Denver']\n",
    "print(*[i for i in list1 if i[0]==\"D\"])"
   ]
  },
  {
   "cell_type": "markdown",
   "id": "927d4d48",
   "metadata": {},
   "source": [
    "# <center>June -20  Functions\n",
    "   "
   ]
  },
  {
   "cell_type": "code",
   "execution_count": 3,
   "id": "cb9c3265",
   "metadata": {},
   "outputs": [],
   "source": [
    "#function\n",
    "def sum(a,b):\n",
    "    return a+b"
   ]
  },
  {
   "cell_type": "code",
   "execution_count": 4,
   "id": "b8902305",
   "metadata": {},
   "outputs": [
    {
     "data": {
      "text/plain": [
       "9"
      ]
     },
     "execution_count": 4,
     "metadata": {},
     "output_type": "execute_result"
    }
   ],
   "source": [
    "sum(4,5)"
   ]
  },
  {
   "cell_type": "code",
   "execution_count": 9,
   "id": "f1a6360f",
   "metadata": {},
   "outputs": [],
   "source": [
    "#nested function without calling the inner function inside the outer function \n",
    "def outerfunction():\n",
    "    print(\"Outer function\")\n",
    "    def innerfunction():\n",
    "        print(\"Inner function\")\n",
    "    print(\"Outside outer function\")"
   ]
  },
  {
   "cell_type": "code",
   "execution_count": 11,
   "id": "bab80cd5",
   "metadata": {},
   "outputs": [
    {
     "name": "stdout",
     "output_type": "stream",
     "text": [
      "Outer function\n",
      "Outside outer function\n"
     ]
    }
   ],
   "source": [
    "outerfunction()"
   ]
  },
  {
   "cell_type": "code",
   "execution_count": 7,
   "id": "f63ab845",
   "metadata": {},
   "outputs": [],
   "source": [
    "#nested function by calling the inner function inside the outer function \n",
    "def outerfunction():\n",
    "    print(\"Outer function\")\n",
    "    def innerfunction():\n",
    "        print(\"Inner function\")\n",
    "    innerfunction()\n",
    "    print(\"Outside outer function\")"
   ]
  },
  {
   "cell_type": "code",
   "execution_count": 8,
   "id": "482dc468",
   "metadata": {},
   "outputs": [
    {
     "name": "stdout",
     "output_type": "stream",
     "text": [
      "Outer function\n",
      "Inner function\n",
      "Outside outer function\n"
     ]
    }
   ],
   "source": [
    "outerfunction()"
   ]
  },
  {
   "cell_type": "raw",
   "id": "0ffd19cc",
   "metadata": {},
   "source": [
    "### types of arguments : Positional and keyword arguments\n",
    "###Functions can called only by values not references\n",
    "###if number of parameters not known , we use *args (its a positional argument)\n",
    "###if number of parameters not known , we use **kwargs(its a keyword argument)"
   ]
  },
  {
   "cell_type": "code",
   "execution_count": 12,
   "id": "c37f3777",
   "metadata": {},
   "outputs": [],
   "source": [
    "# function with unknown positional arguments\n",
    "\n",
    "def println(*args):\n",
    "    for var in args:\n",
    "        print(var)"
   ]
  },
  {
   "cell_type": "code",
   "execution_count": 14,
   "id": "a8d20f00",
   "metadata": {},
   "outputs": [
    {
     "name": "stdout",
     "output_type": "stream",
     "text": [
      "1\n",
      "3\n",
      "24\n",
      "strin\n"
     ]
    }
   ],
   "source": [
    "println(1,3,24,\"strin\")"
   ]
  },
  {
   "cell_type": "code",
   "execution_count": 20,
   "id": "1de89ec3",
   "metadata": {},
   "outputs": [],
   "source": [
    "# function with unknown keyword arguments\n",
    "\n",
    "def print1(**kwargs):\n",
    "    for name,value in kwargs.items():\n",
    "        print(name,value)\n",
    "    print(type(kwargs))"
   ]
  },
  {
   "cell_type": "code",
   "execution_count": 31,
   "id": "a816a671",
   "metadata": {},
   "outputs": [
    {
     "name": "stdout",
     "output_type": "stream",
     "text": [
      "d {'a': 2, 'b': 3}\n",
      "<class 'dict'>\n"
     ]
    }
   ],
   "source": [
    "#should not be passed as dic though kwargs type is dictionary\n",
    "print1(d={'a':2,'b':3})"
   ]
  },
  {
   "cell_type": "code",
   "execution_count": 21,
   "id": "f2275361",
   "metadata": {},
   "outputs": [
    {
     "name": "stdout",
     "output_type": "stream",
     "text": [
      "a 1\n",
      "b 2\n",
      "<class 'dict'>\n"
     ]
    }
   ],
   "source": [
    "print1(a=1,b=2)"
   ]
  },
  {
   "cell_type": "raw",
   "id": "98208dfc",
   "metadata": {},
   "source": [
    "#order of passing the parameters if needed to use both args and kwargs\n",
    "\n",
    "*positional arguments\n",
    "*variable-length positional arguments\n",
    "*keyword arguments\n",
    "*variable-length keyword arguments"
   ]
  },
  {
   "cell_type": "code",
   "execution_count": 22,
   "id": "55a5987e",
   "metadata": {},
   "outputs": [],
   "source": [
    "def print2(i,j,*args,x,y,**kwargs):\n",
    "    print(i,j)\n",
    "    for val in args:\n",
    "        print(val)\n",
    "    print(x,y)\n",
    "    for name,val in kwargs.items():\n",
    "        print(name,val)"
   ]
  },
  {
   "cell_type": "code",
   "execution_count": 32,
   "id": "6d3d6459",
   "metadata": {},
   "outputs": [
    {
     "ename": "TypeError",
     "evalue": "print2() missing 1 required keyword-only argument: 'y'",
     "output_type": "error",
     "traceback": [
      "\u001b[1;31m---------------------------------------------------------------------------\u001b[0m",
      "\u001b[1;31mTypeError\u001b[0m                                 Traceback (most recent call last)",
      "Cell \u001b[1;32mIn[32], line 2\u001b[0m\n\u001b[0;32m      1\u001b[0m \u001b[38;5;66;03m#without passing args and kwargs\u001b[39;00m\n\u001b[1;32m----> 2\u001b[0m \u001b[43mprint2\u001b[49m\u001b[43m(\u001b[49m\u001b[38;5;241;43m10\u001b[39;49m\u001b[43m,\u001b[49m\u001b[38;5;241;43m11\u001b[39;49m\u001b[43m,\u001b[49m\u001b[43mx\u001b[49m\u001b[38;5;241;43m=\u001b[39;49m\u001b[38;5;241;43m12\u001b[39;49m\u001b[43m)\u001b[49m\n",
      "\u001b[1;31mTypeError\u001b[0m: print2() missing 1 required keyword-only argument: 'y'"
     ]
    }
   ],
   "source": [
    "#without passing args and kwargs\n",
    "print2(10,11,x=12,y=10)"
   ]
  },
  {
   "cell_type": "code",
   "execution_count": 24,
   "id": "11f30730",
   "metadata": {},
   "outputs": [
    {
     "ename": "TypeError",
     "evalue": "print2() missing 2 required keyword-only arguments: 'x' and 'y'",
     "output_type": "error",
     "traceback": [
      "\u001b[1;31m---------------------------------------------------------------------------\u001b[0m",
      "\u001b[1;31mTypeError\u001b[0m                                 Traceback (most recent call last)",
      "Cell \u001b[1;32mIn[24], line 1\u001b[0m\n\u001b[1;32m----> 1\u001b[0m \u001b[43mprint2\u001b[49m\u001b[43m(\u001b[49m\u001b[38;5;241;43m10\u001b[39;49m\u001b[43m,\u001b[49m\u001b[38;5;241;43m11\u001b[39;49m\u001b[43m,\u001b[49m\u001b[38;5;241;43m12\u001b[39;49m\u001b[43m,\u001b[49m\u001b[38;5;241;43m13\u001b[39;49m\u001b[43m)\u001b[49m\n",
      "\u001b[1;31mTypeError\u001b[0m: print2() missing 2 required keyword-only arguments: 'x' and 'y'"
     ]
    }
   ],
   "source": [
    "print2(10,11,12,13)"
   ]
  },
  {
   "cell_type": "code",
   "execution_count": 25,
   "id": "5605f1c3",
   "metadata": {},
   "outputs": [
    {
     "ename": "SyntaxError",
     "evalue": "positional argument follows keyword argument (3064704566.py, line 1)",
     "output_type": "error",
     "traceback": [
      "\u001b[1;36m  Cell \u001b[1;32mIn[25], line 1\u001b[1;36m\u001b[0m\n\u001b[1;33m    print2(x=10,y=11,12,13)\u001b[0m\n\u001b[1;37m                          ^\u001b[0m\n\u001b[1;31mSyntaxError\u001b[0m\u001b[1;31m:\u001b[0m positional argument follows keyword argument\n"
     ]
    }
   ],
   "source": [
    "print2(x=10,y=11,12,13)"
   ]
  },
  {
   "cell_type": "code",
   "execution_count": 26,
   "id": "d3d40f95",
   "metadata": {},
   "outputs": [
    {
     "ename": "SyntaxError",
     "evalue": "positional argument follows keyword argument (2300676956.py, line 1)",
     "output_type": "error",
     "traceback": [
      "\u001b[1;36m  Cell \u001b[1;32mIn[26], line 1\u001b[1;36m\u001b[0m\n\u001b[1;33m    print2(10,11,x=12,y=13,15,16,17,a=18,b=19,c=20)\u001b[0m\n\u001b[1;37m                                                  ^\u001b[0m\n\u001b[1;31mSyntaxError\u001b[0m\u001b[1;31m:\u001b[0m positional argument follows keyword argument\n"
     ]
    }
   ],
   "source": [
    "print2(10,11,x=12,y=13,15,16,17,a=18,b=19,c=20)"
   ]
  },
  {
   "cell_type": "code",
   "execution_count": 29,
   "id": "00a74e20",
   "metadata": {},
   "outputs": [
    {
     "name": "stdout",
     "output_type": "stream",
     "text": [
      "10 11\n",
      "12\n",
      "13\n",
      "14\n",
      "15 16\n",
      "z 17\n",
      "dic {'a': 18, 'b': 19}\n"
     ]
    }
   ],
   "source": [
    "print2(10,11,12,13,14,x=15,y=16,z=17,dic={'a':18,'b':19})"
   ]
  },
  {
   "cell_type": "code",
   "execution_count": 38,
   "id": "f471e049",
   "metadata": {},
   "outputs": [
    {
     "name": "stdout",
     "output_type": "stream",
     "text": [
      "10 10 49\n"
     ]
    }
   ],
   "source": [
    "def mme1(x,z,y=10):\n",
    "    print(x,y,z)\n",
    "mme1(10,z=49)"
   ]
  },
  {
   "cell_type": "code",
   "execution_count": 45,
   "id": "1fc73bc4",
   "metadata": {},
   "outputs": [
    {
     "name": "stdout",
     "output_type": "stream",
     "text": [
      "a b\n"
     ]
    }
   ],
   "source": [
    "dict={'a':1,'b':2}\n",
    "print(*dict) # gives key"
   ]
  },
  {
   "cell_type": "code",
   "execution_count": 54,
   "id": "758bc0df",
   "metadata": {},
   "outputs": [
    {
     "name": "stdout",
     "output_type": "stream",
     "text": [
      "1 2\n"
     ]
    }
   ],
   "source": [
    "def d(a,b):\n",
    "    print(a,b)\n",
    "dict={'a':1,'b':2}\n",
    "d(**dict)\n",
    "#keynames should be same as the parameters"
   ]
  },
  {
   "cell_type": "code",
   "execution_count": 65,
   "id": "5c0a5999",
   "metadata": {},
   "outputs": [
    {
     "name": "stdout",
     "output_type": "stream",
     "text": [
      "a\n"
     ]
    }
   ],
   "source": [
    "def d():\n",
    "    print(\"a\")\n",
    "    def df():\n",
    "        print(\"b\")\n",
    "    def de():\n",
    "        print(\"c\")\n",
    "a=d()"
   ]
  },
  {
   "cell_type": "code",
   "execution_count": 66,
   "id": "cce9a1e7",
   "metadata": {},
   "outputs": [
    {
     "name": "stdout",
     "output_type": "stream",
     "text": [
      "3.141592653589793\n"
     ]
    }
   ],
   "source": [
    "import math\n",
    "print(math.pi)"
   ]
  },
  {
   "cell_type": "code",
   "execution_count": null,
   "id": "b55a2bac",
   "metadata": {},
   "outputs": [],
   "source": []
  }
 ],
 "metadata": {
  "kernelspec": {
   "display_name": "Python 3 (ipykernel)",
   "language": "python",
   "name": "python3"
  },
  "language_info": {
   "codemirror_mode": {
    "name": "ipython",
    "version": 3
   },
   "file_extension": ".py",
   "mimetype": "text/x-python",
   "name": "python",
   "nbconvert_exporter": "python",
   "pygments_lexer": "ipython3",
   "version": "3.10.9"
  }
 },
 "nbformat": 4,
 "nbformat_minor": 5
}

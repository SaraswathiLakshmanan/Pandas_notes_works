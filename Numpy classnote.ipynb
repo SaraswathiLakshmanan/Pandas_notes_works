{
 "cells": [
  {
   "cell_type": "markdown",
   "id": "1c127ae3",
   "metadata": {},
   "source": [
    "# 23-June-2023 Numpy"
   ]
  },
  {
   "cell_type": "raw",
   "id": "fffe5b2b",
   "metadata": {},
   "source": [
    "#Numpy numerical package\n",
    "#All elements in array are of same type"
   ]
  },
  {
   "cell_type": "code",
   "execution_count": 7,
   "id": "5ae72cdd",
   "metadata": {},
   "outputs": [],
   "source": [
    "#import numpy package and create a integer array\n",
    "\n",
    "import numpy as np\n",
    "\n",
    "a=np.array([1,0,3,4,7,6]).reshape(2,3)"
   ]
  },
  {
   "cell_type": "code",
   "execution_count": 11,
   "id": "7a4aa96b",
   "metadata": {},
   "outputs": [
    {
     "data": {
      "text/plain": [
       "array([[1, 0, 3],\n",
       "       [4, 7, 6]])"
      ]
     },
     "execution_count": 11,
     "metadata": {},
     "output_type": "execute_result"
    }
   ],
   "source": [
    "a.sort(axis=0);a"
   ]
  },
  {
   "cell_type": "code",
   "execution_count": 13,
   "id": "5f3053c8",
   "metadata": {},
   "outputs": [
    {
     "data": {
      "text/plain": [
       "array([[1, 2, 5],\n",
       "       [2, 8, 3]])"
      ]
     },
     "execution_count": 13,
     "metadata": {},
     "output_type": "execute_result"
    }
   ],
   "source": [
    "a=np.array([[1,2,5],[2,8,3]]);a\n"
   ]
  },
  {
   "cell_type": "code",
   "execution_count": 15,
   "id": "daf10c4d",
   "metadata": {},
   "outputs": [
    {
     "name": "stdout",
     "output_type": "stream",
     "text": [
      "[[1 2 5]\n",
      " [2 3 8]]\n"
     ]
    }
   ],
   "source": [
    "print(np.sort(a,axis=1))"
   ]
  },
  {
   "cell_type": "code",
   "execution_count": 17,
   "id": "8d6b0a43",
   "metadata": {},
   "outputs": [
    {
     "data": {
      "text/plain": [
       "array([[1, 2, 3],\n",
       "       [2, 8, 5]])"
      ]
     },
     "execution_count": 17,
     "metadata": {},
     "output_type": "execute_result"
    }
   ],
   "source": [
    "a.sort(axis=0);a"
   ]
  },
  {
   "cell_type": "code",
   "execution_count": 2,
   "id": "169f7e94",
   "metadata": {},
   "outputs": [],
   "source": [
    "#if we wish we can specify the type of array\n",
    "a3=np.array([1.0,2.1,3.1],float)"
   ]
  },
  {
   "cell_type": "code",
   "execution_count": 3,
   "id": "32dcea14",
   "metadata": {},
   "outputs": [],
   "source": [
    "#obtain an array of desired datatype\n",
    "a3=np.array([1.0,2.1,3.2],int)"
   ]
  },
  {
   "cell_type": "code",
   "execution_count": 4,
   "id": "17ccd47c",
   "metadata": {},
   "outputs": [],
   "source": [
    "#array is homogeneous \n",
    "#it doesnt mean it cant have multiple datatype values inside it , it converts all other datatype to the highest precendence type\n",
    "\n",
    "a4=np.array([2,3,4,5,6.0,'string1'])"
   ]
  },
  {
   "cell_type": "code",
   "execution_count": 5,
   "id": "1805b363",
   "metadata": {},
   "outputs": [
    {
     "data": {
      "text/plain": [
       "dtype('<U32')"
      ]
     },
     "execution_count": 5,
     "metadata": {},
     "output_type": "execute_result"
    }
   ],
   "source": [
    "a4.dtype"
   ]
  },
  {
   "cell_type": "code",
   "execution_count": 6,
   "id": "724c6378",
   "metadata": {},
   "outputs": [],
   "source": [
    "#2D array create a array with 2 rows and 3 columns\n",
    "\n",
    "array21=np.array([[1,2,3],[4,5,6]])"
   ]
  },
  {
   "cell_type": "code",
   "execution_count": 7,
   "id": "f34bdeb9",
   "metadata": {},
   "outputs": [
    {
     "data": {
      "text/plain": [
       "array([[1, 2, 3],\n",
       "       [4, 5, 6]])"
      ]
     },
     "execution_count": 7,
     "metadata": {},
     "output_type": "execute_result"
    }
   ],
   "source": [
    "array21"
   ]
  },
  {
   "cell_type": "code",
   "execution_count": 9,
   "id": "4f105a7d",
   "metadata": {},
   "outputs": [],
   "source": [
    "array1=np.array([[[1,2],[3,4]],[[5,6],[7,8]]])"
   ]
  },
  {
   "cell_type": "code",
   "execution_count": 10,
   "id": "7d2f92a4",
   "metadata": {},
   "outputs": [
    {
     "data": {
      "text/plain": [
       "3"
      ]
     },
     "execution_count": 10,
     "metadata": {},
     "output_type": "execute_result"
    }
   ],
   "source": [
    "array1.ndim"
   ]
  },
  {
   "cell_type": "code",
   "execution_count": 11,
   "id": "95521b25",
   "metadata": {},
   "outputs": [],
   "source": [
    "#creating a complex array\n",
    "\n",
    "array3=np.array([[1,2,3],[4,5,6]],complex)"
   ]
  },
  {
   "cell_type": "code",
   "execution_count": 12,
   "id": "367a605d",
   "metadata": {},
   "outputs": [
    {
     "data": {
      "text/plain": [
       "array([[1.+0.j, 2.+0.j, 3.+0.j],\n",
       "       [4.+0.j, 5.+0.j, 6.+0.j]])"
      ]
     },
     "execution_count": 12,
     "metadata": {},
     "output_type": "execute_result"
    }
   ],
   "source": [
    "array3"
   ]
  },
  {
   "cell_type": "markdown",
   "id": "93b59473",
   "metadata": {},
   "source": [
    "# Creation of Filler Array"
   ]
  },
  {
   "cell_type": "code",
   "execution_count": 13,
   "id": "7648bd00",
   "metadata": {},
   "outputs": [],
   "source": [
    "#we can create numpy arrays which contain initial placeholders values, which can be replaced later\n",
    "\n",
    "#creating a empty array or create 2D array\n",
    "# empty gives garbage values\n",
    "\n",
    "a9=np.empty((2,3))"
   ]
  },
  {
   "cell_type": "code",
   "execution_count": 14,
   "id": "9d424cb6",
   "metadata": {},
   "outputs": [
    {
     "data": {
      "text/plain": [
       "array([[0., 0., 0.],\n",
       "       [0., 0., 0.]])"
      ]
     },
     "execution_count": 14,
     "metadata": {},
     "output_type": "execute_result"
    }
   ],
   "source": [
    "a9"
   ]
  },
  {
   "cell_type": "code",
   "execution_count": 15,
   "id": "dd25c1dc",
   "metadata": {},
   "outputs": [
    {
     "data": {
      "text/plain": [
       "array([[0., 0., 0.],\n",
       "       [0., 0., 0.]])"
      ]
     },
     "execution_count": 15,
     "metadata": {},
     "output_type": "execute_result"
    }
   ],
   "source": [
    "a10=np.empty([2,3])\n",
    "a10"
   ]
  },
  {
   "cell_type": "code",
   "execution_count": 16,
   "id": "73fff967",
   "metadata": {},
   "outputs": [
    {
     "data": {
      "text/plain": [
       "array([[0., 0., 0.],\n",
       "       [0., 0., 0.]])"
      ]
     },
     "execution_count": 16,
     "metadata": {},
     "output_type": "execute_result"
    }
   ],
   "source": [
    "#create 2D array of zeros\n",
    "a11=np.zeros((2,3));a11  # after ; we can directly provide values to print"
   ]
  },
  {
   "cell_type": "code",
   "execution_count": 18,
   "id": "c877e4b8",
   "metadata": {},
   "outputs": [
    {
     "data": {
      "text/plain": [
       "array([[1, 1, 1, 1],\n",
       "       [1, 1, 1, 1]])"
      ]
     },
     "execution_count": 18,
     "metadata": {},
     "output_type": "execute_result"
    }
   ],
   "source": [
    "a12=np.ones((2,4),int);a12"
   ]
  },
  {
   "cell_type": "code",
   "execution_count": 20,
   "id": "e7f11c3c",
   "metadata": {},
   "outputs": [
    {
     "data": {
      "text/plain": [
       "array([[5, 5, 5],\n",
       "       [5, 5, 5]])"
      ]
     },
     "execution_count": 20,
     "metadata": {},
     "output_type": "execute_result"
    }
   ],
   "source": [
    "#create a array with same value\n",
    "arr1=np.full((2,3),5)\n",
    "arr1"
   ]
  },
  {
   "cell_type": "code",
   "execution_count": 23,
   "id": "006200ac",
   "metadata": {},
   "outputs": [
    {
     "data": {
      "text/plain": [
       "array([0.94946681, 0.98596668, 0.12725289, 0.41283257, 0.03433819])"
      ]
     },
     "execution_count": 23,
     "metadata": {},
     "output_type": "execute_result"
    }
   ],
   "source": [
    "#random.random or random.rand ( gives float values btw 0 - 1 )\n",
    "#random.randint(start,end,step) (gives values btw start and end)\n",
    "\n",
    "arra2=np.random.random(5) #1D\n",
    "#arra2=np.random.rand((5,5)) #2D\n",
    "arra2"
   ]
  },
  {
   "cell_type": "code",
   "execution_count": 24,
   "id": "8c400a10",
   "metadata": {},
   "outputs": [
    {
     "data": {
      "text/plain": [
       "array([2, 3, 4])"
      ]
     },
     "execution_count": 24,
     "metadata": {},
     "output_type": "execute_result"
    }
   ],
   "source": [
    "#create array with arange function\n",
    "\n",
    "arra3=np.arange(2,5)\n",
    "arra3"
   ]
  },
  {
   "cell_type": "code",
   "execution_count": 25,
   "id": "9820b0fc",
   "metadata": {},
   "outputs": [
    {
     "data": {
      "text/plain": [
       "numpy.ndarray"
      ]
     },
     "execution_count": 25,
     "metadata": {},
     "output_type": "execute_result"
    }
   ],
   "source": [
    "type(arra3)"
   ]
  },
  {
   "cell_type": "code",
   "execution_count": 26,
   "id": "c90f80b5",
   "metadata": {},
   "outputs": [
    {
     "data": {
      "text/plain": [
       "array([ 2,  4,  6,  8, 10, 12, 14, 16, 18])"
      ]
     },
     "execution_count": 26,
     "metadata": {},
     "output_type": "execute_result"
    }
   ],
   "source": [
    "#create a array with arange function with specified steps\n",
    "\n",
    "arra4=np.arange(2,20,2)\n",
    "arra4"
   ]
  },
  {
   "cell_type": "code",
   "execution_count": 27,
   "id": "13871e01",
   "metadata": {},
   "outputs": [
    {
     "data": {
      "text/plain": [
       "array([ 1.  ,  3.25,  5.5 ,  7.75, 10.  ])"
      ]
     },
     "execution_count": 27,
     "metadata": {},
     "output_type": "execute_result"
    }
   ],
   "source": [
    "#using linspace #linear spacing btw starting and ending \n",
    "\n",
    "array23=np.linspace(1,10,5) # 5 is not step , its the number of elements required\n",
    "array23 "
   ]
  },
  {
   "cell_type": "code",
   "execution_count": 30,
   "id": "6bc37618",
   "metadata": {},
   "outputs": [
    {
     "data": {
      "text/plain": [
       "array([1, 6])"
      ]
     },
     "execution_count": 30,
     "metadata": {},
     "output_type": "execute_result"
    }
   ],
   "source": [
    "arra=np.arange(1,10,5)\n",
    "arra"
   ]
  },
  {
   "cell_type": "code",
   "execution_count": 31,
   "id": "83711068",
   "metadata": {},
   "outputs": [
    {
     "data": {
      "text/plain": [
       "array([[1., 0., 0., 0.],\n",
       "       [0., 1., 0., 0.],\n",
       "       [0., 0., 1., 0.],\n",
       "       [0., 0., 0., 1.]])"
      ]
     },
     "execution_count": 31,
     "metadata": {},
     "output_type": "execute_result"
    }
   ],
   "source": [
    "#In numpy we can create identity matrix using the np.eye function\n",
    "\n",
    "ar1=np.eye(4)\n",
    "ar1"
   ]
  },
  {
   "cell_type": "code",
   "execution_count": 33,
   "id": "9d3c26b0",
   "metadata": {},
   "outputs": [
    {
     "data": {
      "text/plain": [
       "array([[1, 0, 0, 0, 0],\n",
       "       [0, 1, 0, 0, 0],\n",
       "       [0, 0, 1, 0, 0],\n",
       "       [0, 0, 0, 1, 0],\n",
       "       [0, 0, 0, 0, 1]])"
      ]
     },
     "execution_count": 33,
     "metadata": {},
     "output_type": "execute_result"
    }
   ],
   "source": [
    "#using np.identity function\n",
    "\n",
    "ar2=np.identity((5),int)\n",
    "ar2"
   ]
  },
  {
   "cell_type": "code",
   "execution_count": 34,
   "id": "2e009cba",
   "metadata": {},
   "outputs": [
    {
     "data": {
      "text/plain": [
       "array([[[2, 4, 7, 8],\n",
       "        [2, 5, 8, 6]],\n",
       "\n",
       "       [[3, 8, 6, 4],\n",
       "        [8, 6, 4, 9]],\n",
       "\n",
       "       [[2, 9, 6, 8],\n",
       "        [6, 7, 2, 9]]])"
      ]
     },
     "execution_count": 34,
     "metadata": {},
     "output_type": "execute_result"
    }
   ],
   "source": [
    "a1=np.array([[[2,4,7,8],[2,5,8,6]],[[3,8,6,4],[8,6,4,9]],[[2,9,6,8],[6,7,2,9]]])\n",
    "a1"
   ]
  },
  {
   "cell_type": "code",
   "execution_count": 35,
   "id": "1efcfeae",
   "metadata": {},
   "outputs": [
    {
     "data": {
      "text/plain": [
       "(3, 2, 4)"
      ]
     },
     "execution_count": 35,
     "metadata": {},
     "output_type": "execute_result"
    }
   ],
   "source": [
    "#shape of the array\n",
    "a1.shape # dimension (i.e., number of sub-arrays) , rows, columns (rows and columns in a sub-array)"
   ]
  },
  {
   "cell_type": "code",
   "execution_count": 40,
   "id": "ae22e687",
   "metadata": {},
   "outputs": [
    {
     "data": {
      "text/plain": [
       "array([[2, 4, 7, 8],\n",
       "       [2, 5, 8, 6],\n",
       "       [3, 8, 6, 4],\n",
       "       [8, 6, 4, 9],\n",
       "       [2, 9, 6, 8],\n",
       "       [6, 7, 2, 9]])"
      ]
     },
     "execution_count": 40,
     "metadata": {},
     "output_type": "execute_result"
    }
   ],
   "source": [
    "#reshape the array\n",
    "a2=a1.reshape(6,4)\n",
    "a2"
   ]
  },
  {
   "cell_type": "code",
   "execution_count": 41,
   "id": "9b52e14d",
   "metadata": {},
   "outputs": [
    {
     "data": {
      "text/plain": [
       "array([[[2, 4, 7],\n",
       "        [8, 2, 5],\n",
       "        [8, 6, 3],\n",
       "        [8, 6, 4]],\n",
       "\n",
       "       [[8, 6, 4],\n",
       "        [9, 2, 9],\n",
       "        [6, 8, 6],\n",
       "        [7, 2, 9]]])"
      ]
     },
     "execution_count": 41,
     "metadata": {},
     "output_type": "execute_result"
    }
   ],
   "source": [
    "a3=a1.reshape(2,4,3);a3"
   ]
  },
  {
   "cell_type": "code",
   "execution_count": 42,
   "id": "05d98ad3",
   "metadata": {},
   "outputs": [
    {
     "data": {
      "text/plain": [
       "3"
      ]
     },
     "execution_count": 42,
     "metadata": {},
     "output_type": "execute_result"
    }
   ],
   "source": [
    "a3.ndim"
   ]
  },
  {
   "cell_type": "code",
   "execution_count": 45,
   "id": "5cf90576",
   "metadata": {},
   "outputs": [
    {
     "name": "stdout",
     "output_type": "stream",
     "text": [
      "4\n"
     ]
    },
    {
     "data": {
      "text/plain": [
       "24"
      ]
     },
     "execution_count": 45,
     "metadata": {},
     "output_type": "execute_result"
    }
   ],
   "source": [
    "# 3 dimension is a array that contains array of 2- dimension arrays\n",
    "\n",
    "#n[(n-1) dimensions]\n",
    "\n",
    "print(a3.itemsize) #gives the byte value of the array type\n",
    "a3.size # gives the number of items"
   ]
  },
  {
   "cell_type": "code",
   "execution_count": 53,
   "id": "7195548f",
   "metadata": {},
   "outputs": [],
   "source": [
    "#create 2 arrays a1 and a2\n",
    "a1=np.array([[1,2,3,4],[5,6,7,8]])\n",
    "a2=[[1.0,1.0,1.0,1.0],[2.0,2.0,2.0,2.0]]"
   ]
  },
  {
   "cell_type": "code",
   "execution_count": 54,
   "id": "45fb0b29",
   "metadata": {},
   "outputs": [],
   "source": [
    "sum1=np.add(a1,a2)"
   ]
  },
  {
   "cell_type": "code",
   "execution_count": 55,
   "id": "38a9cfbb",
   "metadata": {},
   "outputs": [
    {
     "data": {
      "text/plain": [
       "array([[ 2.,  3.,  4.,  5.],\n",
       "       [ 7.,  8.,  9., 10.]])"
      ]
     },
     "execution_count": 55,
     "metadata": {},
     "output_type": "execute_result"
    }
   ],
   "source": [
    "sum"
   ]
  },
  {
   "cell_type": "code",
   "execution_count": 61,
   "id": "f49e4b05",
   "metadata": {},
   "outputs": [
    {
     "data": {
      "text/plain": [
       "array([[0., 1., 2., 3.],\n",
       "       [3., 4., 5., 6.]])"
      ]
     },
     "execution_count": 61,
     "metadata": {},
     "output_type": "execute_result"
    }
   ],
   "source": [
    "diff=np.subtract(a1,a2) ;diff"
   ]
  },
  {
   "cell_type": "code",
   "execution_count": 64,
   "id": "5519c0eb",
   "metadata": {},
   "outputs": [
    {
     "data": {
      "text/plain": [
       "array([[ 1.,  2.,  3.,  4.],\n",
       "       [10., 12., 14., 16.]])"
      ]
     },
     "execution_count": 64,
     "metadata": {},
     "output_type": "execute_result"
    }
   ],
   "source": [
    "mul=np.multiply(a1,a2);mul"
   ]
  },
  {
   "cell_type": "code",
   "execution_count": 76,
   "id": "f64efd42",
   "metadata": {},
   "outputs": [
    {
     "name": "stdout",
     "output_type": "stream",
     "text": [
      "[[1.         0.5        0.33333333 0.25      ]\n",
      " [0.4        0.33333333 0.28571429 0.25      ]]\n",
      "[[1. 0. 0. 0.]\n",
      " [0. 0. 0. 0.]]\n"
     ]
    }
   ],
   "source": [
    "div=np.divide(a2,a1);\n",
    "print(div)\n",
    "div1=a2//a1;\n",
    "print(div1)"
   ]
  },
  {
   "cell_type": "code",
   "execution_count": 68,
   "id": "69c5cae1",
   "metadata": {},
   "outputs": [
    {
     "data": {
      "text/plain": [
       "array([[0., 0., 0., 0.],\n",
       "       [1., 0., 1., 0.]])"
      ]
     },
     "execution_count": 68,
     "metadata": {},
     "output_type": "execute_result"
    }
   ],
   "source": [
    "mod=a1%a2;mod"
   ]
  },
  {
   "cell_type": "code",
   "execution_count": 70,
   "id": "0bf0c123",
   "metadata": {},
   "outputs": [
    {
     "data": {
      "text/plain": [
       "array([[ 1,  4,  9, 16],\n",
       "       [25, 36, 49, 64]], dtype=int32)"
      ]
     },
     "execution_count": 70,
     "metadata": {},
     "output_type": "execute_result"
    }
   ],
   "source": [
    "power1=np.power(a1,2);power1"
   ]
  },
  {
   "cell_type": "code",
   "execution_count": 72,
   "id": "c0ed1dc0",
   "metadata": {},
   "outputs": [
    {
     "name": "stdout",
     "output_type": "stream",
     "text": [
      "[[1 2 3 4]\n",
      " [5 6 7 8]]\n",
      "[[ 3  4  5  6]\n",
      " [ 7  8  9 10]]\n"
     ]
    }
   ],
   "source": [
    "#scalar operation with array\n",
    "\n",
    "print(a1)\n",
    "print(a1+2)"
   ]
  },
  {
   "cell_type": "markdown",
   "id": "61d001d5",
   "metadata": {},
   "source": [
    "# Statistical Operations"
   ]
  },
  {
   "cell_type": "code",
   "execution_count": 77,
   "id": "62a96f0a",
   "metadata": {},
   "outputs": [],
   "source": [
    "a1=np.array([[1,2,3],[4,5,6]])"
   ]
  },
  {
   "cell_type": "code",
   "execution_count": 78,
   "id": "59fb3760",
   "metadata": {},
   "outputs": [
    {
     "data": {
      "text/plain": [
       "21"
      ]
     },
     "execution_count": 78,
     "metadata": {},
     "output_type": "execute_result"
    }
   ],
   "source": [
    "np.sum(a1) #sum of all elements in an array"
   ]
  },
  {
   "cell_type": "code",
   "execution_count": 80,
   "id": "402ddf5f",
   "metadata": {},
   "outputs": [
    {
     "name": "stdout",
     "output_type": "stream",
     "text": [
      "[[1 2 3]\n",
      " [4 5 6]]\n",
      "1\n",
      "6\n",
      "[4 5 6]\n",
      "[3 6]\n",
      "[1 2 3]\n",
      "[1 4]\n",
      "[[1 2 3]\n",
      " [5 7 9]]\n"
     ]
    }
   ],
   "source": [
    "print(a1)\n",
    "print(a1.min())\n",
    "print(a1.max())\n",
    "print(a1.max(axis=0)) # in array 0 is column \n",
    "print(a1.max(axis=1)) # 1 is row\n",
    "print(a1.min(axis=0))\n",
    "print(a1.min(axis=1))\n",
    "print(a1.cumsum(axis=0))"
   ]
  },
  {
   "cell_type": "code",
   "execution_count": 86,
   "id": "33fb3fd0",
   "metadata": {},
   "outputs": [
    {
     "name": "stdout",
     "output_type": "stream",
     "text": [
      "3.5\n",
      "3.5\n",
      "[[1. 1.]\n",
      " [1. 1.]]\n",
      "1.707825127659933\n",
      "1\n"
     ]
    }
   ],
   "source": [
    "print(np.mean(a1))\n",
    "print(np.median(a1))\n",
    "print(np.corrcoef(a1))\n",
    "print(np.std(a1))\n",
    "print(np.count_nonzero(a1==2)) # gives number which is repeated that many number of times"
   ]
  },
  {
   "cell_type": "markdown",
   "id": "38629e03",
   "metadata": {},
   "source": [
    "# Linear Algebra Operations:\n"
   ]
  },
  {
   "cell_type": "code",
   "execution_count": 88,
   "id": "09720ea9",
   "metadata": {},
   "outputs": [
    {
     "data": {
      "text/plain": [
       "array([[1, 4],\n",
       "       [2, 5],\n",
       "       [3, 6]])"
      ]
     },
     "execution_count": 88,
     "metadata": {},
     "output_type": "execute_result"
    }
   ],
   "source": [
    "#multiply corresponding elements of a1 and a2\n",
    "\n",
    "#columns of first array and rows of second array should be same\n",
    "\n",
    "#transpose\n",
    "k=np.transpose(a1);\n",
    "k"
   ]
  },
  {
   "cell_type": "code",
   "execution_count": 90,
   "id": "b6dd6f27",
   "metadata": {},
   "outputs": [
    {
     "name": "stdout",
     "output_type": "stream",
     "text": [
      "[[1 2 3]\n",
      " [4 5 6]]\n"
     ]
    },
    {
     "data": {
      "text/plain": [
       "6"
      ]
     },
     "execution_count": 90,
     "metadata": {},
     "output_type": "execute_result"
    }
   ],
   "source": [
    "#trace of a matrix is sum of its diagonal elements\n",
    "\n",
    "s=np.trace(a1)\n",
    "print(a1)\n",
    "s"
   ]
  },
  {
   "cell_type": "code",
   "execution_count": 92,
   "id": "e5e6b2ed",
   "metadata": {},
   "outputs": [
    {
     "data": {
      "text/plain": [
       "array([[-2. ,  1. ],\n",
       "       [ 1.5, -0.5]])"
      ]
     },
     "execution_count": 92,
     "metadata": {},
     "output_type": "execute_result"
    }
   ],
   "source": [
    "#inverse of a matrix\n",
    "\n",
    "a=np.array([[1,2],[3,4]])\n",
    "b=np.linalg.inv(a)\n",
    "b"
   ]
  },
  {
   "cell_type": "markdown",
   "id": "418d019a",
   "metadata": {},
   "source": [
    "# Bitwise Operations"
   ]
  },
  {
   "cell_type": "code",
   "execution_count": null,
   "id": "e76dfa6e",
   "metadata": {},
   "outputs": [],
   "source": [
    "a1=np.array([[1,2,3,4],[5,6,7,8]])"
   ]
  },
  {
   "cell_type": "code",
   "execution_count": null,
   "id": "c7742289",
   "metadata": {},
   "outputs": [],
   "source": []
  },
  {
   "cell_type": "code",
   "execution_count": 95,
   "id": "a397c17b",
   "metadata": {},
   "outputs": [],
   "source": [
    "a=np.array([[3,3,7],[1,5,2]])"
   ]
  },
  {
   "cell_type": "code",
   "execution_count": 96,
   "id": "771ce9c9",
   "metadata": {},
   "outputs": [],
   "source": [
    "b=a #no copy # refers to same object"
   ]
  },
  {
   "cell_type": "code",
   "execution_count": 97,
   "id": "4255ba4c",
   "metadata": {},
   "outputs": [
    {
     "data": {
      "text/plain": [
       "array([[3, 3, 7],\n",
       "       [1, 5, 2]])"
      ]
     },
     "execution_count": 97,
     "metadata": {},
     "output_type": "execute_result"
    }
   ],
   "source": [
    "b"
   ]
  },
  {
   "cell_type": "code",
   "execution_count": 99,
   "id": "f50451fe",
   "metadata": {},
   "outputs": [],
   "source": [
    "#Original array\n",
    "\n",
    "Original_array=np.array([[3,3,7],[1,5,2]])\n",
    "shallow_copy=Original_array.view() #view() is the function to create shallow copy \n",
    "# original array changes if any changes made in shallow copy\n",
    "shallow_copy[0][0]=20"
   ]
  },
  {
   "cell_type": "code",
   "execution_count": 101,
   "id": "24a81654",
   "metadata": {},
   "outputs": [
    {
     "data": {
      "text/plain": [
       "array([[20,  3,  7],\n",
       "       [ 1,  5,  2]])"
      ]
     },
     "execution_count": 101,
     "metadata": {},
     "output_type": "execute_result"
    }
   ],
   "source": [
    "Original_array"
   ]
  },
  {
   "cell_type": "code",
   "execution_count": 102,
   "id": "6da3bd8d",
   "metadata": {},
   "outputs": [],
   "source": [
    "#deep copy\n",
    "Original_array=np.array([[3,3,7],[1,5,2]])\n",
    "deepCopy=Original_array.copy() # new copy of an array but doesn't change the original array\n",
    "deepCopy[1][1]=100"
   ]
  },
  {
   "cell_type": "code",
   "execution_count": 103,
   "id": "3ff8e486",
   "metadata": {},
   "outputs": [
    {
     "data": {
      "text/plain": [
       "array([[3, 3, 7],\n",
       "       [1, 5, 2]])"
      ]
     },
     "execution_count": 103,
     "metadata": {},
     "output_type": "execute_result"
    }
   ],
   "source": [
    "Original_array"
   ]
  },
  {
   "cell_type": "code",
   "execution_count": 109,
   "id": "89b51c1c",
   "metadata": {},
   "outputs": [
    {
     "data": {
      "text/plain": [
       "array([[1, 2, 5],\n",
       "       [3, 3, 7]])"
      ]
     },
     "execution_count": 109,
     "metadata": {},
     "output_type": "execute_result"
    }
   ],
   "source": [
    "#sort array\n",
    "a.sort()  #sorts row-wise\n",
    "a"
   ]
  },
  {
   "cell_type": "code",
   "execution_count": 111,
   "id": "c02b8dd0",
   "metadata": {},
   "outputs": [
    {
     "data": {
      "text/plain": [
       "array([[1, 2, 5],\n",
       "       [3, 3, 7]])"
      ]
     },
     "execution_count": 111,
     "metadata": {},
     "output_type": "execute_result"
    }
   ],
   "source": [
    "b.sort(axis=0) #sorts column-wise\n",
    "b"
   ]
  },
  {
   "cell_type": "code",
   "execution_count": 112,
   "id": "0e645e38",
   "metadata": {},
   "outputs": [
    {
     "data": {
      "text/plain": [
       "True"
      ]
     },
     "execution_count": 112,
     "metadata": {},
     "output_type": "execute_result"
    }
   ],
   "source": [
    "np.array_equal(a,b) #checks entire elements and shape"
   ]
  },
  {
   "cell_type": "code",
   "execution_count": 1,
   "id": "b0b6eb1f",
   "metadata": {},
   "outputs": [
    {
     "ename": "NameError",
     "evalue": "name 'np' is not defined",
     "output_type": "error",
     "traceback": [
      "\u001b[1;31m---------------------------------------------------------------------------\u001b[0m",
      "\u001b[1;31mNameError\u001b[0m                                 Traceback (most recent call last)",
      "Cell \u001b[1;32mIn[1], line 1\u001b[0m\n\u001b[1;32m----> 1\u001b[0m array1\u001b[38;5;241m=\u001b[39m\u001b[43mnp\u001b[49m\u001b[38;5;241m.\u001b[39marray([[\u001b[38;5;241m2\u001b[39m,\u001b[38;5;241m4\u001b[39m,\u001b[38;5;241m7\u001b[39m,\u001b[38;5;241m8\u001b[39m],[\u001b[38;5;241m2\u001b[39m,\u001b[38;5;241m5\u001b[39m,\u001b[38;5;241m8\u001b[39m,\u001b[38;5;241m6\u001b[39m],[\u001b[38;5;241m3\u001b[39m,\u001b[38;5;241m4\u001b[39m,\u001b[38;5;241m5\u001b[39m,\u001b[38;5;241m6\u001b[39m]])\n\u001b[0;32m      3\u001b[0m array1[:\u001b[38;5;241m3\u001b[39m,\u001b[38;5;241m2\u001b[39m:\u001b[38;5;241m4\u001b[39m]\n",
      "\u001b[1;31mNameError\u001b[0m: name 'np' is not defined"
     ]
    }
   ],
   "source": [
    "array1=np.array([[2,4,7,8],[2,5,8,6],[3,4,5,6]])\n",
    "\n",
    "array1[:3,2:4] #rows,columns\n"
   ]
  },
  {
   "cell_type": "code",
   "execution_count": 115,
   "id": "8706bd58",
   "metadata": {},
   "outputs": [],
   "source": [
    "#flatten() , ravel()"
   ]
  },
  {
   "cell_type": "code",
   "execution_count": null,
   "id": "4629e171",
   "metadata": {},
   "outputs": [],
   "source": [
    "np.array([1,2,3,4])"
   ]
  },
  {
   "cell_type": "code",
   "execution_count": 119,
   "id": "ed9d10c7",
   "metadata": {},
   "outputs": [
    {
     "name": "stdout",
     "output_type": "stream",
     "text": [
      "[[1 2 5]\n",
      " [3 3 7]]\n",
      "----------\n",
      "[[1 2 5]\n",
      " [3 3 7]]\n"
     ]
    }
   ],
   "source": [
    "print(a)\n",
    "print(\"----------\")\n",
    "print(b)"
   ]
  },
  {
   "cell_type": "code",
   "execution_count": 116,
   "id": "8c92c09a",
   "metadata": {},
   "outputs": [
    {
     "data": {
      "text/plain": [
       "array([1, 2, 5, 3, 3, 7, 1, 2, 5, 3, 3, 7])"
      ]
     },
     "execution_count": 116,
     "metadata": {},
     "output_type": "execute_result"
    }
   ],
   "source": [
    "np.append(a,b) # gives as a single dimension"
   ]
  },
  {
   "cell_type": "code",
   "execution_count": 117,
   "id": "7f6ddd99",
   "metadata": {},
   "outputs": [
    {
     "data": {
      "text/plain": [
       "array([[1, 2, 5],\n",
       "       [3, 3, 7],\n",
       "       [1, 2, 5],\n",
       "       [3, 3, 7]])"
      ]
     },
     "execution_count": 117,
     "metadata": {},
     "output_type": "execute_result"
    }
   ],
   "source": [
    "np.append(a,b,axis=0) #append as column wise"
   ]
  },
  {
   "cell_type": "code",
   "execution_count": 120,
   "id": "875db299",
   "metadata": {},
   "outputs": [
    {
     "data": {
      "text/plain": [
       "array([[1, 2, 5, 1, 2, 5],\n",
       "       [3, 3, 7, 3, 3, 7]])"
      ]
     },
     "execution_count": 120,
     "metadata": {},
     "output_type": "execute_result"
    }
   ],
   "source": [
    "np.append(a,b,axis=1) #append as row wise"
   ]
  },
  {
   "cell_type": "markdown",
   "id": "989fe9f4",
   "metadata": {},
   "source": [
    "# Splitting and stacking"
   ]
  },
  {
   "cell_type": "code",
   "execution_count": 121,
   "id": "a6404b81",
   "metadata": {},
   "outputs": [],
   "source": [
    "data=np.arange(24)"
   ]
  },
  {
   "cell_type": "code",
   "execution_count": 142,
   "id": "cf3d474e",
   "metadata": {},
   "outputs": [],
   "source": [
    "data2=data.reshape(6,4)"
   ]
  },
  {
   "cell_type": "code",
   "execution_count": 143,
   "id": "bf692417",
   "metadata": {},
   "outputs": [
    {
     "name": "stdout",
     "output_type": "stream",
     "text": [
      "[[ 0  1  2  3]\n",
      " [ 4  5  6  7]\n",
      " [ 8  9 10 11]\n",
      " [12 13 14 15]\n",
      " [16 17 18 19]\n",
      " [20 21 22 23]]\n"
     ]
    }
   ],
   "source": [
    "print(data2)"
   ]
  },
  {
   "cell_type": "code",
   "execution_count": 130,
   "id": "ef107499",
   "metadata": {},
   "outputs": [
    {
     "data": {
      "text/plain": [
       "2"
      ]
     },
     "execution_count": 130,
     "metadata": {},
     "output_type": "execute_result"
    }
   ],
   "source": [
    "data2.ndim"
   ]
  },
  {
   "cell_type": "code",
   "execution_count": 146,
   "id": "ef1226a7",
   "metadata": {},
   "outputs": [
    {
     "data": {
      "text/plain": [
       "[array([[0, 1, 2, 3],\n",
       "        [4, 5, 6, 7]]),\n",
       " array([[ 8,  9, 10, 11],\n",
       "        [12, 13, 14, 15]]),\n",
       " array([[16, 17, 18, 19],\n",
       "        [20, 21, 22, 23]])]"
      ]
     },
     "execution_count": 146,
     "metadata": {},
     "output_type": "execute_result"
    }
   ],
   "source": [
    "data1=np.vsplit(data2,3)\n",
    "data1"
   ]
  },
  {
   "cell_type": "code",
   "execution_count": 147,
   "id": "d512851d",
   "metadata": {},
   "outputs": [
    {
     "data": {
      "text/plain": [
       "[array([[ 0,  1],\n",
       "        [ 4,  5],\n",
       "        [ 8,  9],\n",
       "        [12, 13],\n",
       "        [16, 17],\n",
       "        [20, 21]]),\n",
       " array([[ 2,  3],\n",
       "        [ 6,  7],\n",
       "        [10, 11],\n",
       "        [14, 15],\n",
       "        [18, 19],\n",
       "        [22, 23]])]"
      ]
     },
     "execution_count": 147,
     "metadata": {},
     "output_type": "execute_result"
    }
   ],
   "source": [
    "data3=np.hsplit(data2,2)\n",
    "data3"
   ]
  },
  {
   "cell_type": "code",
   "execution_count": 148,
   "id": "17aa8e62",
   "metadata": {},
   "outputs": [],
   "source": [
    "b1=np.array([[3,5,8],[4,5,2]])\n",
    "b2=np.array([[7,8,4],[5,6,1]])"
   ]
  },
  {
   "cell_type": "code",
   "execution_count": 158,
   "id": "2f8bd5ff",
   "metadata": {},
   "outputs": [
    {
     "data": {
      "text/plain": [
       "array([[3, 5, 8],\n",
       "       [4, 5, 2],\n",
       "       [7, 8, 4],\n",
       "       [5, 6, 1]])"
      ]
     },
     "execution_count": 158,
     "metadata": {},
     "output_type": "execute_result"
    }
   ],
   "source": [
    "b3=np.vstack((b1,b2));b3 #vertical stack"
   ]
  },
  {
   "cell_type": "code",
   "execution_count": 159,
   "id": "f6785e02",
   "metadata": {},
   "outputs": [
    {
     "data": {
      "text/plain": [
       "array([[3, 5, 8, 7, 8, 4],\n",
       "       [4, 5, 2, 5, 6, 1]])"
      ]
     },
     "execution_count": 159,
     "metadata": {},
     "output_type": "execute_result"
    }
   ],
   "source": [
    "b4=np.hstack((b1,b2));b4 #horizontal stack"
   ]
  },
  {
   "cell_type": "code",
   "execution_count": 160,
   "id": "77cc852f",
   "metadata": {},
   "outputs": [],
   "source": [
    "#delete element\n",
    "\n",
    "delarray=np.array([1,2,3,4,5,6,7,8,9,0])\n",
    "ad1=np.delete(delarray,4)"
   ]
  },
  {
   "cell_type": "code",
   "execution_count": 162,
   "id": "d19250f5",
   "metadata": {},
   "outputs": [
    {
     "data": {
      "text/plain": [
       "array([1, 2, 3, 4, 6, 7, 8, 9, 0])"
      ]
     },
     "execution_count": 162,
     "metadata": {},
     "output_type": "execute_result"
    }
   ],
   "source": [
    "ad1"
   ]
  },
  {
   "cell_type": "code",
   "execution_count": 164,
   "id": "097cae18",
   "metadata": {},
   "outputs": [
    {
     "data": {
      "text/plain": [
       "array([[3, 5, 7, 8, 4],\n",
       "       [4, 5, 5, 6, 1]])"
      ]
     },
     "execution_count": 164,
     "metadata": {},
     "output_type": "execute_result"
    }
   ],
   "source": [
    "#delete columns - syntax np.delete(arrayname,index,axis=1) (only here axis=1 is column)\n",
    "ad4=np.delete(b4,2,axis=1);ad4"
   ]
  },
  {
   "cell_type": "code",
   "execution_count": 166,
   "id": "09add4dd",
   "metadata": {},
   "outputs": [
    {
     "data": {
      "text/plain": [
       "array([[3, 5, 8],\n",
       "       [4, 5, 2],\n",
       "       [5, 6, 1]])"
      ]
     },
     "execution_count": 166,
     "metadata": {},
     "output_type": "execute_result"
    }
   ],
   "source": [
    "#delete rows - syntax np.delete(arrayname,index,axis=0) (only here axis=0 is row)\n",
    "ad5=np.delete(b3,2,axis=0)\n",
    "ad5"
   ]
  }
 ],
 "metadata": {
  "kernelspec": {
   "display_name": "Python 3 (ipykernel)",
   "language": "python",
   "name": "python3"
  },
  "language_info": {
   "codemirror_mode": {
    "name": "ipython",
    "version": 3
   },
   "file_extension": ".py",
   "mimetype": "text/x-python",
   "name": "python",
   "nbconvert_exporter": "python",
   "pygments_lexer": "ipython3",
   "version": "3.10.9"
  }
 },
 "nbformat": 4,
 "nbformat_minor": 5
}

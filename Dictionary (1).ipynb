{
 "cells": [
  {
   "cell_type": "code",
   "execution_count": 1,
   "id": "753a8ca8",
   "metadata": {},
   "outputs": [
    {
     "data": {
      "text/plain": [
       "{1: 1, 2: 4, 3: 9, 4: 16, 5: 25}"
      ]
     },
     "execution_count": 1,
     "metadata": {},
     "output_type": "execute_result"
    }
   ],
   "source": [
    "#creating a dictionary containing numbers as key and their square as values\n",
    "numbers=[1,2,3,4,5]\n",
    "sq_dict={num:num*num for num in numbers}\n",
    "sq_dict"
   ]
  },
  {
   "cell_type": "code",
   "execution_count": 15,
   "id": "255839e0",
   "metadata": {},
   "outputs": [
    {
     "name": "stdout",
     "output_type": "stream",
     "text": [
      "total_bill: 1000\n"
     ]
    }
   ],
   "source": [
    "#create two dictionaries- one containing grocery items and their prices and \n",
    "#the other one containing grocery items and quantity purchased,\n",
    "#by using the values from these two dictionaries , compute the total bill.\n",
    "\n",
    "d1={\"apple\":10,\"orange\":20,\"grapes\":30}\n",
    "d2={\"apple\":20,\"orange\":40}\n",
    "\n",
    "total_bill=0\n",
    "for i in d2.keys():\n",
    "    total_bill=d1[i]*d2[i]+total_bill\n",
    "print(\"total_bill: \"+str(total_bill))"
   ]
  },
  {
   "cell_type": "code",
   "execution_count": 20,
   "id": "ed0ce3a3",
   "metadata": {},
   "outputs": [
    {
     "name": "stdout",
     "output_type": "stream",
     "text": [
      "{'write': 1, 'a': 17, 'program': 2, 'that': 1, 'takes': 1, 'paragraph': 1, 'of': 2, 'text': 1, 'as': 3, 'input': 1, 'and': 2, 'counts': 1, 'the': 3, 'frequency': 1, 'each': 1, 'word.The': 1, 'should': 1, 'store': 1, 'words': 1, 'keys': 1, 'their': 1, 'frequencies': 1, 'values': 1, 'in': 2, 'dictionary.': 1}\n"
     ]
    }
   ],
   "source": [
    "#write a program that takes a paragraph of text as input and counts the frequency of each word.\n",
    "#The program should store the words as keys and their frequencies as values in dictionary.\n",
    "\n",
    "text1=\"write a program that takes a paragraph of text as input and counts the frequency of each word.The program should store the words as keys and their frequencies as values in dictionary.\"\n",
    "\n",
    "d={i:text1.count(i) for i in text1.split()}\n",
    "\n",
    "print(d)"
   ]
  },
  {
   "cell_type": "code",
   "execution_count": 22,
   "id": "8510cc89",
   "metadata": {},
   "outputs": [],
   "source": [
    "port1={'ftp':1,'ssh':2,'telnet':3,'http':4}\n",
    "#write a program to swap keys and values of the above dictionary and store it in new dictionary port2.\n",
    "\n",
    "port2={port1[i]:i for i in port1}"
   ]
  },
  {
   "cell_type": "code",
   "execution_count": 23,
   "id": "ece1aa58",
   "metadata": {},
   "outputs": [
    {
     "data": {
      "text/plain": [
       "{1: 'ftp', 2: 'ssh', 3: 'telnet', 4: 'http'}"
      ]
     },
     "execution_count": 23,
     "metadata": {},
     "output_type": "execute_result"
    }
   ],
   "source": [
    "port2"
   ]
  }
 ],
 "metadata": {
  "kernelspec": {
   "display_name": "Python 3 (ipykernel)",
   "language": "python",
   "name": "python3"
  },
  "language_info": {
   "codemirror_mode": {
    "name": "ipython",
    "version": 3
   },
   "file_extension": ".py",
   "mimetype": "text/x-python",
   "name": "python",
   "nbconvert_exporter": "python",
   "pygments_lexer": "ipython3",
   "version": "3.10.9"
  }
 },
 "nbformat": 4,
 "nbformat_minor": 5
}

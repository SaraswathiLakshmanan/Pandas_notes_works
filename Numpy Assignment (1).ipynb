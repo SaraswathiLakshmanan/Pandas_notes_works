{
 "cells": [
  {
   "cell_type": "code",
   "execution_count": 4,
   "id": "972463b5",
   "metadata": {},
   "outputs": [],
   "source": [
    "import numpy as np\n"
   ]
  },
  {
   "cell_type": "code",
   "execution_count": 5,
   "id": "283df8e2",
   "metadata": {},
   "outputs": [
    {
     "data": {
      "text/plain": [
       "array([[[1., 1., 1.],\n",
       "        [1., 1., 1.]],\n",
       "\n",
       "       [[1., 1., 1.],\n",
       "        [1., 1., 1.]],\n",
       "\n",
       "       [[1., 1., 1.],\n",
       "        [1., 1., 1.]],\n",
       "\n",
       "       [[1., 1., 1.],\n",
       "        [1., 1., 1.]]])"
      ]
     },
     "execution_count": 5,
     "metadata": {},
     "output_type": "execute_result"
    }
   ],
   "source": [
    "#1.\twrite a program that constructs a 3d array of dimensions 4X2X3.Initialize array to some values.\n",
    "#Find maximum along each axis.\n",
    "\n",
    "arr1=np.ones((4,2,3)) ; arr1\n"
   ]
  },
  {
   "cell_type": "code",
   "execution_count": 6,
   "id": "353019cb",
   "metadata": {},
   "outputs": [
    {
     "data": {
      "text/plain": [
       "3"
      ]
     },
     "execution_count": 6,
     "metadata": {},
     "output_type": "execute_result"
    }
   ],
   "source": [
    "arr1.ndim"
   ]
  },
  {
   "cell_type": "code",
   "execution_count": 7,
   "id": "4fef9d34",
   "metadata": {},
   "outputs": [
    {
     "data": {
      "text/plain": [
       "array([[[ 1,  2,  3],\n",
       "        [ 4,  5,  6]],\n",
       "\n",
       "       [[ 7,  8,  9],\n",
       "        [10, 11, 12]],\n",
       "\n",
       "       [[13, 14, 15],\n",
       "        [16, 17, 18]],\n",
       "\n",
       "       [[19, 20, 21],\n",
       "        [22, 23, 24]]])"
      ]
     },
     "execution_count": 7,
     "metadata": {},
     "output_type": "execute_result"
    }
   ],
   "source": [
    "arr1 =np.array([[[1,2,3],[4,5,6]],[[7,8,9],[10,11,12]],[[13,14,15],[16,17,18]],[[19,20,21],[22,23,24]]]);arr1"
   ]
  },
  {
   "cell_type": "code",
   "execution_count": 8,
   "id": "af6122a7",
   "metadata": {},
   "outputs": [
    {
     "name": "stdout",
     "output_type": "stream",
     "text": [
      "[[ 4  5  6]\n",
      " [10 11 12]\n",
      " [16 17 18]\n",
      " [22 23 24]]\n",
      "----------------------------\n",
      "[[19 20 21]\n",
      " [22 23 24]]\n"
     ]
    }
   ],
   "source": [
    "maximum_rows=arr1.max(axis=1)\n",
    "print(maximum_rows)\n",
    "print(\"----------------------------\")\n",
    "maximum_column=arr1.max(axis=0)\n",
    "print(maximum_column)"
   ]
  },
  {
   "cell_type": "code",
   "execution_count": 9,
   "id": "56a29c96",
   "metadata": {},
   "outputs": [
    {
     "name": "stdout",
     "output_type": "stream",
     "text": [
      "[[ 1  2  3]\n",
      " [ 7  8  9]\n",
      " [13 14 15]\n",
      " [19 20 21]]\n",
      "-----------------\n",
      "[[1 2 3]\n",
      " [4 5 6]]\n"
     ]
    }
   ],
   "source": [
    "minimum_rows=arr1.min(axis=1)\n",
    "print(minimum_rows)\n",
    "print(\"-----------------\")\n",
    "minimum_columns=arr1.min(axis=0)\n",
    "print(minimum_columns)"
   ]
  },
  {
   "cell_type": "raw",
   "id": "5c422d7a",
   "metadata": {},
   "source": [
    "2.\twrite a program that does following:\n",
    "(a)\t    create a array array1 of size 10 with element of it set to value of 5\n",
    "(b)\t    find the memory-size of this array and its individual element\n",
    "(c)\t    create a array array2 of size 10 with values ranging from 0 to 90 evenly spaced.\n",
    "(d)\t    Reverse elements of array2\n",
    "(e)\t    add arrays array1 and array2 and save result in array3\n"
   ]
  },
  {
   "cell_type": "code",
   "execution_count": 10,
   "id": "bf7aec33",
   "metadata": {},
   "outputs": [
    {
     "data": {
      "text/plain": [
       "array([5, 5, 5, 5, 5, 5, 5, 5, 5, 5])"
      ]
     },
     "execution_count": 10,
     "metadata": {},
     "output_type": "execute_result"
    }
   ],
   "source": [
    "#a\n",
    "array1=np.full((10),5);array1"
   ]
  },
  {
   "cell_type": "code",
   "execution_count": 11,
   "id": "41a81f84",
   "metadata": {},
   "outputs": [
    {
     "name": "stdout",
     "output_type": "stream",
     "text": [
      "40\n",
      "4.0\n"
     ]
    }
   ],
   "source": [
    "#b\n",
    "memory_size=array1.nbytes\n",
    "print(memory_size)\n",
    "memory_size_of_element=memory_size/array1.size\n",
    "print(memory_size_of_element)"
   ]
  },
  {
   "cell_type": "code",
   "execution_count": 12,
   "id": "4bc68f61",
   "metadata": {},
   "outputs": [
    {
     "data": {
      "text/plain": [
       "array([ 0., 10., 20., 30., 40., 50., 60., 70., 80., 90.])"
      ]
     },
     "execution_count": 12,
     "metadata": {},
     "output_type": "execute_result"
    }
   ],
   "source": [
    "#c\n",
    "array2=np.linspace(0,90,10);array2"
   ]
  },
  {
   "cell_type": "code",
   "execution_count": 13,
   "id": "27806cdc",
   "metadata": {},
   "outputs": [
    {
     "data": {
      "text/plain": [
       "array([90., 80., 70., 60., 50., 40., 30., 20., 10.,  0.])"
      ]
     },
     "execution_count": 13,
     "metadata": {},
     "output_type": "execute_result"
    }
   ],
   "source": [
    "#d\n",
    "c=np.flip(array2);c"
   ]
  },
  {
   "cell_type": "code",
   "execution_count": 14,
   "id": "ae8afaa4",
   "metadata": {},
   "outputs": [
    {
     "data": {
      "text/plain": [
       "array([ 5., 15., 25., 35., 45., 55., 65., 75., 85., 95.])"
      ]
     },
     "execution_count": 14,
     "metadata": {},
     "output_type": "execute_result"
    }
   ],
   "source": [
    "#e\n",
    "array3=np.add(array1,array2);array3"
   ]
  },
  {
   "cell_type": "raw",
   "id": "9fa7a4ce",
   "metadata": {},
   "source": [
    "3.\tcreate a 8 X 8 array and fill it with chessboard pattern:\n",
    "Expected Output:\n",
    "10101010\n",
    "01010101\n",
    "10101010\n",
    "01010101\n",
    "10101010\n",
    "01010101\n",
    "10101010\n",
    "01010101\n"
   ]
  },
  {
   "cell_type": "code",
   "execution_count": 15,
   "id": "a0682899",
   "metadata": {},
   "outputs": [
    {
     "data": {
      "text/plain": [
       "array([[0., 0., 0., 0., 0., 0., 0., 0.],\n",
       "       [0., 0., 0., 0., 0., 0., 0., 0.],\n",
       "       [0., 0., 0., 0., 0., 0., 0., 0.],\n",
       "       [0., 0., 0., 0., 0., 0., 0., 0.],\n",
       "       [0., 0., 0., 0., 0., 0., 0., 0.],\n",
       "       [0., 0., 0., 0., 0., 0., 0., 0.],\n",
       "       [0., 0., 0., 0., 0., 0., 0., 0.],\n",
       "       [0., 0., 0., 0., 0., 0., 0., 0.]])"
      ]
     },
     "execution_count": 15,
     "metadata": {},
     "output_type": "execute_result"
    }
   ],
   "source": [
    "arr3=np.zeros((8,8));arr3"
   ]
  },
  {
   "cell_type": "code",
   "execution_count": 16,
   "id": "b185da51",
   "metadata": {},
   "outputs": [
    {
     "data": {
      "text/plain": [
       "array([[1., 0., 1., 0., 1., 0., 1., 0.],\n",
       "       [0., 0., 0., 0., 0., 0., 0., 0.],\n",
       "       [1., 0., 1., 0., 1., 0., 1., 0.],\n",
       "       [0., 0., 0., 0., 0., 0., 0., 0.],\n",
       "       [1., 0., 1., 0., 1., 0., 1., 0.],\n",
       "       [0., 0., 0., 0., 0., 0., 0., 0.],\n",
       "       [1., 0., 1., 0., 1., 0., 1., 0.],\n",
       "       [0., 0., 0., 0., 0., 0., 0., 0.]])"
      ]
     },
     "execution_count": 16,
     "metadata": {},
     "output_type": "execute_result"
    }
   ],
   "source": [
    "arr3[::2,::2]=1;arr3"
   ]
  },
  {
   "cell_type": "code",
   "execution_count": 17,
   "id": "3d4e3aad",
   "metadata": {},
   "outputs": [
    {
     "data": {
      "text/plain": [
       "array([[1., 0., 1., 0., 1., 0., 1., 0.],\n",
       "       [0., 1., 0., 1., 0., 1., 0., 1.],\n",
       "       [1., 0., 1., 0., 1., 0., 1., 0.],\n",
       "       [0., 1., 0., 1., 0., 1., 0., 1.],\n",
       "       [1., 0., 1., 0., 1., 0., 1., 0.],\n",
       "       [0., 1., 0., 1., 0., 1., 0., 1.],\n",
       "       [1., 0., 1., 0., 1., 0., 1., 0.],\n",
       "       [0., 1., 0., 1., 0., 1., 0., 1.]])"
      ]
     },
     "execution_count": 17,
     "metadata": {},
     "output_type": "execute_result"
    }
   ],
   "source": [
    "arr3[1::2,1::2]=1;arr3"
   ]
  },
  {
   "cell_type": "raw",
   "id": "167ef997",
   "metadata": {},
   "source": [
    "You are hired as DS engineers and have been assigned the project to manage Hr data. The company has 3 departments namely DS, DE and DA.All departments have 200 employees each.\n",
    "\n",
    "Task1:\n",
    "Generate employee ids for DS, DE, and DA department employees.\n",
    "DS ids Should be from 1 to 200, DE from 201 to 400 and DA from 401 to 600.\n",
    " \n"
   ]
  },
  {
   "cell_type": "code",
   "execution_count": 38,
   "id": "d4c2eddf",
   "metadata": {},
   "outputs": [
    {
     "name": "stdout",
     "output_type": "stream",
     "text": [
      "DS_emp---> [  1   2   3   4   5   6   7   8   9  10  11  12  13  14  15  16  17  18\n",
      "  19  20  21  22  23  24  25  26  27  28  29  30  31  32  33  34  35  36\n",
      "  37  38  39  40  41  42  43  44  45  46  47  48  49  50  51  52  53  54\n",
      "  55  56  57  58  59  60  61  62  63  64  65  66  67  68  69  70  71  72\n",
      "  73  74  75  76  77  78  79  80  81  82  83  84  85  86  87  88  89  90\n",
      "  91  92  93  94  95  96  97  98  99 100 101 102 103 104 105 106 107 108\n",
      " 109 110 111 112 113 114 115 116 117 118 119 120 121 122 123 124 125 126\n",
      " 127 128 129 130 131 132 133 134 135 136 137 138 139 140 141 142 143 144\n",
      " 145 146 147 148 149 150 151 152 153 154 155 156 157 158 159 160 161 162\n",
      " 163 164 165 166 167 168 169 170 171 172 173 174 175 176 177 178 179 180\n",
      " 181 182 183 184 185 186 187 188 189 190 191 192 193 194 195 196 197 198\n",
      " 199 200]\n",
      "DE_emp--> [201 202 203 204 205 206 207 208 209 210 211 212 213 214 215 216 217 218\n",
      " 219 220 221 222 223 224 225 226 227 228 229 230 231 232 233 234 235 236\n",
      " 237 238 239 240 241 242 243 244 245 246 247 248 249 250 251 252 253 254\n",
      " 255 256 257 258 259 260 261 262 263 264 265 266 267 268 269 270 271 272\n",
      " 273 274 275 276 277 278 279 280 281 282 283 284 285 286 287 288 289 290\n",
      " 291 292 293 294 295 296 297 298 299 300 301 302 303 304 305 306 307 308\n",
      " 309 310 311 312 313 314 315 316 317 318 319 320 321 322 323 324 325 326\n",
      " 327 328 329 330 331 332 333 334 335 336 337 338 339 340 341 342 343 344\n",
      " 345 346 347 348 349 350 351 352 353 354 355 356 357 358 359 360 361 362\n",
      " 363 364 365 366 367 368 369 370 371 372 373 374 375 376 377 378 379 380\n",
      " 381 382 383 384 385 386 387 388 389 390 391 392 393 394 395 396 397 398\n",
      " 399 400]\n",
      "DA_rmp----> [401 402 403 404 405 406 407 408 409 410 411 412 413 414 415 416 417 418\n",
      " 419 420 421 422 423 424 425 426 427 428 429 430 431 432 433 434 435 436\n",
      " 437 438 439 440 441 442 443 444 445 446 447 448 449 450 451 452 453 454\n",
      " 455 456 457 458 459 460 461 462 463 464 465 466 467 468 469 470 471 472\n",
      " 473 474 475 476 477 478 479 480 481 482 483 484 485 486 487 488 489 490\n",
      " 491 492 493 494 495 496 497 498 499 500 501 502 503 504 505 506 507 508\n",
      " 509 510 511 512 513 514 515 516 517 518 519 520 521 522 523 524 525 526\n",
      " 527 528 529 530 531 532 533 534 535 536 537 538 539 540 541 542 543 544\n",
      " 545 546 547 548 549 550 551 552 553 554 555 556 557 558 559 560 561 562\n",
      " 563 564 565 566 567 568 569 570 571 572 573 574 575 576 577 578 579 580\n",
      " 581 582 583 584 585 586 587 588 589 590 591 592 593 594 595 596 597 598\n",
      " 599 600]\n"
     ]
    }
   ],
   "source": [
    "DS_emp=np.arange(1,201)\n",
    "print(\"DS_emp--->\",DS_emp)\n",
    "DE_emp=np.arange(201,401);print(\"DE_emp-->\",DE_emp)\n",
    "DA_emp=np.arange(401,601)\n",
    "print(\"DA_rmp---->\",DA_emp)"
   ]
  },
  {
   "cell_type": "raw",
   "id": "47d15898",
   "metadata": {},
   "source": [
    "Task2:\n",
    "Generate Salaries for all the departments:\n",
    "For DS salaries should be random numbers between 20000 and 50000, DE salary is 1.5 times DS SALARY, and DA salary is 2000 more than the DS salary.\n"
   ]
  },
  {
   "cell_type": "code",
   "execution_count": 39,
   "id": "9f185ea5",
   "metadata": {},
   "outputs": [
    {
     "name": "stdout",
     "output_type": "stream",
     "text": [
      "DS_sal\n",
      "[41203 22422 44249 29024 29459 47183 24337 27394 37462 23547 31118 37024\n",
      " 26634 30927 42744 24510 34176 29697 27210 35295 21939 32045 47184 42906\n",
      " 27492 43270 38393 22224 38837 24122 38183 43588 25958 26739 30593 20183\n",
      " 35402 31119 40117 26601 33125 35433 26616 40275 42913 32257 43190 34190\n",
      " 42167 27524 43076 22233 48355 20627 27585 46623 22103 33880 42662 46210\n",
      " 37662 31334 48492 41658 23818 29033 36874 22221 36378 27036 22708 20290\n",
      " 27247 45206 37325 47921 49725 40635 32947 26718 33188 47530 49676 29690\n",
      " 38576 42792 23979 30168 32671 40258 26899 28549 24968 22836 31284 47652\n",
      " 48813 48612 48308 36415 23370 48458 20493 20152 39884 48205 27051 42477\n",
      " 21811 47802 34827 25637 23414 41337 44253 35045 36862 20651 28314 26215\n",
      " 25399 45029 36561 37360 27351 25218 42650 29335 39011 46013 41530 20918\n",
      " 32707 49380 40322 43881 47214 22622 49477 32429 38948 24434 24480 27566\n",
      " 45885 28537 45140 20728 38130 34733 42803 37569 21649 33002 49800 44461\n",
      " 46602 26698 22490 27697 44311 34494 38298 47122 24163 21618 32586 27930\n",
      " 34406 43887 31621 48808 20912 41114 43312 39122 21027 26037 25257 42531\n",
      " 31577 41201 46909 43180 43180 21177 37389 32415 36928 31583 24748 21860\n",
      " 25517 21660 27720 41983 36388 47685 37107 35538]\n",
      "DE_sal\n",
      "[61804.5 33633.  66373.5 43536.  44188.5 70774.5 36505.5 41091.  56193.\n",
      " 35320.5 46677.  55536.  39951.  46390.5 64116.  36765.  51264.  44545.5\n",
      " 40815.  52942.5 32908.5 48067.5 70776.  64359.  41238.  64905.  57589.5\n",
      " 33336.  58255.5 36183.  57274.5 65382.  38937.  40108.5 45889.5 30274.5\n",
      " 53103.  46678.5 60175.5 39901.5 49687.5 53149.5 39924.  60412.5 64369.5\n",
      " 48385.5 64785.  51285.  63250.5 41286.  64614.  33349.5 72532.5 30940.5\n",
      " 41377.5 69934.5 33154.5 50820.  63993.  69315.  56493.  47001.  72738.\n",
      " 62487.  35727.  43549.5 55311.  33331.5 54567.  40554.  34062.  30435.\n",
      " 40870.5 67809.  55987.5 71881.5 74587.5 60952.5 49420.5 40077.  49782.\n",
      " 71295.  74514.  44535.  57864.  64188.  35968.5 45252.  49006.5 60387.\n",
      " 40348.5 42823.5 37452.  34254.  46926.  71478.  73219.5 72918.  72462.\n",
      " 54622.5 35055.  72687.  30739.5 30228.  59826.  72307.5 40576.5 63715.5\n",
      " 32716.5 71703.  52240.5 38455.5 35121.  62005.5 66379.5 52567.5 55293.\n",
      " 30976.5 42471.  39322.5 38098.5 67543.5 54841.5 56040.  41026.5 37827.\n",
      " 63975.  44002.5 58516.5 69019.5 62295.  31377.  49060.5 74070.  60483.\n",
      " 65821.5 70821.  33933.  74215.5 48643.5 58422.  36651.  36720.  41349.\n",
      " 68827.5 42805.5 67710.  31092.  57195.  52099.5 64204.5 56353.5 32473.5\n",
      " 49503.  74700.  66691.5 69903.  40047.  33735.  41545.5 66466.5 51741.\n",
      " 57447.  70683.  36244.5 32427.  48879.  41895.  51609.  65830.5 47431.5\n",
      " 73212.  31368.  61671.  64968.  58683.  31540.5 39055.5 37885.5 63796.5\n",
      " 47365.5 61801.5 70363.5 64770.  64770.  31765.5 56083.5 48622.5 55392.\n",
      " 47374.5 37122.  32790.  38275.5 32490.  41580.  62974.5 54582.  71527.5\n",
      " 55660.5 53307. ]\n",
      "DA_sal\n",
      "[43203 24422 46249 31024 31459 49183 26337 29394 39462 25547 33118 39024\n",
      " 28634 32927 44744 26510 36176 31697 29210 37295 23939 34045 49184 44906\n",
      " 29492 45270 40393 24224 40837 26122 40183 45588 27958 28739 32593 22183\n",
      " 37402 33119 42117 28601 35125 37433 28616 42275 44913 34257 45190 36190\n",
      " 44167 29524 45076 24233 50355 22627 29585 48623 24103 35880 44662 48210\n",
      " 39662 33334 50492 43658 25818 31033 38874 24221 38378 29036 24708 22290\n",
      " 29247 47206 39325 49921 51725 42635 34947 28718 35188 49530 51676 31690\n",
      " 40576 44792 25979 32168 34671 42258 28899 30549 26968 24836 33284 49652\n",
      " 50813 50612 50308 38415 25370 50458 22493 22152 41884 50205 29051 44477\n",
      " 23811 49802 36827 27637 25414 43337 46253 37045 38862 22651 30314 28215\n",
      " 27399 47029 38561 39360 29351 27218 44650 31335 41011 48013 43530 22918\n",
      " 34707 51380 42322 45881 49214 24622 51477 34429 40948 26434 26480 29566\n",
      " 47885 30537 47140 22728 40130 36733 44803 39569 23649 35002 51800 46461\n",
      " 48602 28698 24490 29697 46311 36494 40298 49122 26163 23618 34586 29930\n",
      " 36406 45887 33621 50808 22912 43114 45312 41122 23027 28037 27257 44531\n",
      " 33577 43201 48909 45180 45180 23177 39389 34415 38928 33583 26748 23860\n",
      " 27517 23660 29720 43983 38388 49685 39107 37538]\n"
     ]
    }
   ],
   "source": [
    "DS_sal=np.random.randint(20000,50000,200)\n",
    "print(\"DS_sal\")\n",
    "print(DS_sal)\n",
    "DE_sal=DS_sal*1.5\n",
    "print(\"DE_sal\")\n",
    "print(DE_sal)\n",
    "DA_sal=DS_sal+2000\n",
    "print(\"DA_sal\")\n",
    "print(DA_sal)"
   ]
  },
  {
   "cell_type": "raw",
   "id": "4edc25eb",
   "metadata": {},
   "source": [
    "Task3:\n",
    "Provide department-wise CTC i.e how much each department is costing the company.\n"
   ]
  },
  {
   "cell_type": "code",
   "execution_count": 20,
   "id": "4dd3551b",
   "metadata": {},
   "outputs": [
    {
     "name": "stdout",
     "output_type": "stream",
     "text": [
      "DS_department CTC:6887413\n",
      "DE_Department CTC:10331119.5\n",
      "DA_Department CTC:7287413\n"
     ]
    }
   ],
   "source": [
    "a=np.sum(DS_sal)\n",
    "b=np.sum(DE_sal)\n",
    "c=np.sum(DA_sal)\n",
    "print('DS_department CTC:{}\\nDE_Department CTC:{}\\nDA_Department CTC:{}'.format(a,b,c))\n"
   ]
  },
  {
   "cell_type": "raw",
   "id": "09eda888",
   "metadata": {},
   "source": [
    "Task4:\n",
    "Provide top 10 salaries across all departments.\n"
   ]
  },
  {
   "cell_type": "code",
   "execution_count": 21,
   "id": "be1a3970",
   "metadata": {},
   "outputs": [
    {
     "name": "stdout",
     "output_type": "stream",
     "text": [
      "Top 10 DA Salaries:[50299, 50444, 50483, 50624, 50771, 50907, 51272, 51412, 51622, 51748]\n",
      "Top 10 DS Salaries:[48299, 48444, 48483, 48624, 48771, 48907, 49272, 49412, 49622, 49748]\n",
      "Top 10 DE Salaries:[72448.5, 72666.0, 72724.5, 72936.0, 73156.5, 73360.5, 73908.0, 74118.0, 74433.0, 74622.0]\n"
     ]
    }
   ],
   "source": [
    "a=sorted(DA_sal)[-10:]\n",
    "b=sorted(DS_sal)[-10:]\n",
    "c=sorted(DE_sal)[-10:]\n",
    "print('''Top 10 DA Salaries:{}\n",
    "Top 10 DS Salaries:{}\n",
    "Top 10 DE Salaries:{}'''.format(a,b,c))"
   ]
  },
  {
   "cell_type": "raw",
   "id": "143419b8",
   "metadata": {},
   "source": [
    "Task5:\n",
    "Provide  the sum of top 10 salaries for each department."
   ]
  },
  {
   "cell_type": "code",
   "execution_count": 22,
   "id": "7909e823",
   "metadata": {},
   "outputs": [
    {
     "name": "stdout",
     "output_type": "stream",
     "text": [
      "Sum of Top 10 DA Salaries:509582\n",
      "Sum of Top 10 DS Salaries:489582\n",
      "Sum of Top 10 DE Salaries:734373.0\n"
     ]
    }
   ],
   "source": [
    "print('''Sum of Top 10 DA Salaries:{}\n",
    "Sum of Top 10 DS Salaries:{}\n",
    "Sum of Top 10 DE Salaries:{}'''.format(sum(a),sum(b),sum(c)))"
   ]
  },
  {
   "cell_type": "raw",
   "id": "e6d8507e",
   "metadata": {},
   "source": [
    "Task6:\n",
    "provide the count of those employees who are in top 10 salary bracket."
   ]
  },
  {
   "cell_type": "code",
   "execution_count": 23,
   "id": "68fc03d5",
   "metadata": {},
   "outputs": [
    {
     "name": "stdout",
     "output_type": "stream",
     "text": [
      "Total count of DA employees with top 10 salaries: 10\n",
      "Total count of DS employees with top 10 salaries: 10\n",
      "Total count of DE employees with top 10 salaries: 10\n"
     ]
    }
   ],
   "source": [
    "l,l1,l2=[],[],[]\n",
    "for i in a:\n",
    "    l.append(np.count_nonzero(DA_sal==i))\n",
    "for i in b:\n",
    "    l1.append(np.count_nonzero(DS_sal==i))\n",
    "for i in c:\n",
    "    l2.append(np.count_nonzero(DE_sal==i))\n",
    "print(\"Total count of DA employees with top 10 salaries: \"+str(sum(l)))\n",
    "print(\"Total count of DS employees with top 10 salaries: \"+str(sum(l1)))\n",
    "print(\"Total count of DE employees with top 10 salaries: \"+str(sum(l2)))"
   ]
  },
  {
   "cell_type": "markdown",
   "id": "7ef3df7a",
   "metadata": {},
   "source": [
    "Task7:\n",
    "Provide  total number of employees having more than 40000 salary in all departments:"
   ]
  },
  {
   "cell_type": "code",
   "execution_count": 24,
   "id": "f0a0c8d2",
   "metadata": {},
   "outputs": [
    {
     "name": "stdout",
     "output_type": "stream",
     "text": [
      "Total number of employees having more than 40000 salary in all departments: 299\n"
     ]
    }
   ],
   "source": [
    "count1=np.count_nonzero(DA_sal>40000)\n",
    "count2=np.count_nonzero(DS_sal>40000)\n",
    "count3=np.count_nonzero(DE_sal>40000)\n",
    "print(\"Total number of employees having more than 40000 salary in all departments: \"+str(count1+count2+count3))"
   ]
  },
  {
   "cell_type": "markdown",
   "id": "607526e0",
   "metadata": {},
   "source": [
    "Task8:\n",
    "Increase the salary of all DS employees whose salary is less than 35000 by 20 %"
   ]
  },
  {
   "cell_type": "code",
   "execution_count": 25,
   "id": "1e4185dc",
   "metadata": {},
   "outputs": [
    {
     "data": {
      "text/plain": [
       "array([24181, 45774, 37707, 33552, 42600, 29223, 36124, 47676, 41673,\n",
       "       25652, 41269, 39728, 24668, 37430, 39265, 43601, 30931, 41558,\n",
       "       31306, 28256, 49748, 47462, 45957, 32014, 34184, 49412, 49272,\n",
       "       38738, 35546, 42552, 41451, 49622, 39334, 42788, 27151, 40460,\n",
       "       38718, 34734, 41635, 33727, 48444, 38558, 36818, 32955, 36348,\n",
       "       37862, 39290, 48907, 38716, 24603, 35299, 25452, 48771, 25108,\n",
       "       42350, 25675, 44017, 40088, 44468, 47912, 46663, 47982, 42726,\n",
       "       32586, 41476, 40591, 35408, 31953, 25756, 25324, 32077, 33058,\n",
       "       36165, 26568, 40170, 37604, 27166, 43406, 31340, 38877, 42437,\n",
       "       43614, 30622, 34380, 45255, 27124, 36148, 26215, 28549, 40300,\n",
       "       37156, 40107, 40752, 41230, 40700, 40789, 46682, 40231, 30891,\n",
       "       30782, 30157, 46456, 31405, 32702, 24217, 29937, 44731, 37951,\n",
       "       35659, 36337, 36549, 48624, 46088, 36276, 39516, 27978, 36048,\n",
       "       33217, 33721, 47946, 40126, 43877, 26803, 40119, 33489, 43149,\n",
       "       44100, 38158, 34893, 45361, 37861, 44434, 35863, 35211, 47782,\n",
       "       44284, 37791, 44519, 43987, 24370, 41818, 36860, 35990, 41150,\n",
       "       28330, 29095, 39742, 34940, 31532, 24662, 24192, 32546, 35744,\n",
       "       36474, 29223, 37872, 28076, 26277, 44048, 38188, 36386, 30272,\n",
       "       35154, 44722, 47184, 33340, 48299, 35941, 24885, 27854, 33487,\n",
       "       32606, 34806, 36633, 29835, 35628, 43660, 36707, 48483, 39540,\n",
       "       47919, 37269, 46310, 35136, 36103, 35851, 36979, 43338, 45119,\n",
       "       45638, 32150, 25723, 47599, 43662, 39198, 38072, 25888, 47795,\n",
       "       38346, 42141])"
      ]
     },
     "execution_count": 25,
     "metadata": {},
     "output_type": "execute_result"
    }
   ],
   "source": [
    "for i in range(0,len(DS_sal)):\n",
    "    if DS_sal[i]<35000:\n",
    "        DS_sal[i]=DS_sal[i]+(DS_sal[i]*0.2)\n",
    "DS_sal\n"
   ]
  },
  {
   "cell_type": "markdown",
   "id": "8c007007",
   "metadata": {},
   "source": [
    "Task9:\n",
    "Delete records of the employees with emp id > 380 from DE department."
   ]
  },
  {
   "cell_type": "code",
   "execution_count": 48,
   "id": "dcb993a7",
   "metadata": {},
   "outputs": [],
   "source": [
    "#condition=DE_emp<380\n",
    "#DE_emp[condition]"
   ]
  },
  {
   "cell_type": "code",
   "execution_count": 52,
   "id": "30157801",
   "metadata": {},
   "outputs": [],
   "source": [
    "DE_emp=np.delete(DE_emp,np.where(DE_emp>380))\n",
    "DE_sal=np.delete(DE_sal,np.where(DE_emp>380))"
   ]
  },
  {
   "cell_type": "code",
   "execution_count": 53,
   "id": "ce77afcd",
   "metadata": {},
   "outputs": [
    {
     "data": {
      "text/plain": [
       "array([201, 202, 203, 204, 205, 206, 207, 208, 209, 210, 211, 212, 213,\n",
       "       214, 215, 216, 217, 218, 219, 220, 221, 222, 223, 224, 225, 226,\n",
       "       227, 228, 229, 230, 231, 232, 233, 234, 235, 236, 237, 238, 239,\n",
       "       240, 241, 242, 243, 244, 245, 246, 247, 248, 249, 250, 251, 252,\n",
       "       253, 254, 255, 256, 257, 258, 259, 260, 261, 262, 263, 264, 265,\n",
       "       266, 267, 268, 269, 270, 271, 272, 273, 274, 275, 276, 277, 278,\n",
       "       279, 280, 281, 282, 283, 284, 285, 286, 287, 288, 289, 290, 291,\n",
       "       292, 293, 294, 295, 296, 297, 298, 299, 300, 301, 302, 303, 304,\n",
       "       305, 306, 307, 308, 309, 310, 311, 312, 313, 314, 315, 316, 317,\n",
       "       318, 319, 320, 321, 322, 323, 324, 325, 326, 327, 328, 329, 330,\n",
       "       331, 332, 333, 334, 335, 336, 337, 338, 339, 340, 341, 342, 343,\n",
       "       344, 345, 346, 347, 348, 349, 350, 351, 352, 353, 354, 355, 356,\n",
       "       357, 358, 359, 360, 361, 362, 363, 364, 365, 366, 367, 368, 369,\n",
       "       370, 371, 372, 373, 374, 375, 376, 377, 378, 379, 380])"
      ]
     },
     "execution_count": 53,
     "metadata": {},
     "output_type": "execute_result"
    }
   ],
   "source": [
    "DE_emp"
   ]
  },
  {
   "cell_type": "raw",
   "id": "1d142277",
   "metadata": {},
   "source": [
    "Task10:Add  5 employees to DE department with new ID's from (701 to 705)"
   ]
  },
  {
   "cell_type": "code",
   "execution_count": 54,
   "id": "f9207fdd",
   "metadata": {},
   "outputs": [
    {
     "data": {
      "text/plain": [
       "array([201, 202, 203, 204, 205, 206, 207, 208, 209, 210, 211, 212, 213,\n",
       "       214, 215, 216, 217, 218, 219, 220, 221, 222, 223, 224, 225, 226,\n",
       "       227, 228, 229, 230, 231, 232, 233, 234, 235, 236, 237, 238, 239,\n",
       "       240, 241, 242, 243, 244, 245, 246, 247, 248, 249, 250, 251, 252,\n",
       "       253, 254, 255, 256, 257, 258, 259, 260, 261, 262, 263, 264, 265,\n",
       "       266, 267, 268, 269, 270, 271, 272, 273, 274, 275, 276, 277, 278,\n",
       "       279, 280, 281, 282, 283, 284, 285, 286, 287, 288, 289, 290, 291,\n",
       "       292, 293, 294, 295, 296, 297, 298, 299, 300, 301, 302, 303, 304,\n",
       "       305, 306, 307, 308, 309, 310, 311, 312, 313, 314, 315, 316, 317,\n",
       "       318, 319, 320, 321, 322, 323, 324, 325, 326, 327, 328, 329, 330,\n",
       "       331, 332, 333, 334, 335, 336, 337, 338, 339, 340, 341, 342, 343,\n",
       "       344, 345, 346, 347, 348, 349, 350, 351, 352, 353, 354, 355, 356,\n",
       "       357, 358, 359, 360, 361, 362, 363, 364, 365, 366, 367, 368, 369,\n",
       "       370, 371, 372, 373, 374, 375, 376, 377, 378, 379, 380, 701, 702,\n",
       "       703, 704, 705])"
      ]
     },
     "execution_count": 54,
     "metadata": {},
     "output_type": "execute_result"
    }
   ],
   "source": [
    "DE_emp_new=np.arange(701,706)\n",
    "#DE_emp.append(DE_emp_new)\n",
    "DE_emp=np.append(DE_emp,DE_emp_new)\n",
    "DE_emp"
   ]
  }
 ],
 "metadata": {
  "kernelspec": {
   "display_name": "Python 3 (ipykernel)",
   "language": "python",
   "name": "python3"
  },
  "language_info": {
   "codemirror_mode": {
    "name": "ipython",
    "version": 3
   },
   "file_extension": ".py",
   "mimetype": "text/x-python",
   "name": "python",
   "nbconvert_exporter": "python",
   "pygments_lexer": "ipython3",
   "version": "3.10.9"
  }
 },
 "nbformat": 4,
 "nbformat_minor": 5
}

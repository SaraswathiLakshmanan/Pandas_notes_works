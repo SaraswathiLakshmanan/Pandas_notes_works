{
 "cells": [
  {
   "cell_type": "markdown",
   "id": "99592c36",
   "metadata": {},
   "source": [
    "# Lambda functions 21-June-2023"
   ]
  },
  {
   "cell_type": "code",
   "execution_count": 1,
   "id": "41695ae6",
   "metadata": {},
   "outputs": [
    {
     "name": "stdout",
     "output_type": "stream",
     "text": [
      "Greater than 10\n"
     ]
    }
   ],
   "source": [
    "#Create a lambda function that checks whether a given number is greater than 10 . Print \"Greater than 10\" if it is,\n",
    "#otherwise print \"Not greater than 10\".\n",
    "\n",
    "check=(lambda x: \"Greater than 10\" if x>10 else \"Not greater than 10\")\n",
    "print(check(11))"
   ]
  },
  {
   "cell_type": "code",
   "execution_count": 8,
   "id": "37983de5",
   "metadata": {},
   "outputs": [
    {
     "name": "stdout",
     "output_type": "stream",
     "text": [
      "8\n"
     ]
    }
   ],
   "source": [
    "#Create a lambda function that takes two arguments x and y and returns their sum.Then, use lambda function to compute sum  \n",
    "#of two given numbers\n",
    "\n",
    "value=lambda x,y:x+y\n",
    "print(value(3,5))\n"
   ]
  },
  {
   "cell_type": "code",
   "execution_count": 45,
   "id": "23f5afc2",
   "metadata": {},
   "outputs": [
    {
     "name": "stdout",
     "output_type": "stream",
     "text": [
      "[{'name': 'Alice', 'age': 30}, {'name': 'Bob', 'age': 20}, {'name': 'John', 'age': 25}]\n"
     ]
    }
   ],
   "source": [
    "# Sorting with Lambda Sort the list of dictionaries based on the \"name\" key using a lambda function and print the sorted list. \n",
    "#people = [ {\"name\": \"John\", \"age\": 25}, {\"name\": \"Alice\", \"age\": 30}, {\"name\": \"Bob\", \"age\": 20} ] \n",
    "\n",
    "people = [ {\"name\": \"John\", \"age\": 25}, {\"name\": \"Alice\", \"age\": 30}, {\"name\": \"Bob\", \"age\": 20} ] \n",
    "\n",
    "sortedname=sorted(people,key=lambda x:x['name'])\n",
    "\n",
    "print(sortedname)"
   ]
  },
  {
   "cell_type": "code",
   "execution_count": 70,
   "id": "12410e6b",
   "metadata": {},
   "outputs": [
    {
     "name": "stdout",
     "output_type": "stream",
     "text": [
      "[2, 3, 5, 7, 11, 13]\n"
     ]
    }
   ],
   "source": [
    "# Write a lambda function that checks whether a given number is prime. \n",
    "#Then, use this lambda function to filter out all the prime numbers from a given list of numbers and print the result. \n",
    "\n",
    "prime= lambda x : all(x%i!=0 for i in range(2,x)) and x!=0 and x!=1\n",
    "l=[2,3,4,5,6,7,8,9,10,11,12,13,14,15,0,1]\n",
    "\n",
    "isprime=list(filter(prime,l))\n",
    "print(isprime)"
   ]
  },
  {
   "cell_type": "code",
   "execution_count": 104,
   "id": "18c3cf9a",
   "metadata": {},
   "outputs": [
    {
     "name": "stdout",
     "output_type": "stream",
     "text": [
      "[0, 1, 1, 2, 3, 5, 8, 13]\n"
     ]
    }
   ],
   "source": [
    "#Write a lambda function that generates the Fibonacci sequence up to a specified number of terms. \n",
    "#Then, use this lambda function to generate and print the Fibonacci sequence up to the 10th term. \n",
    "\n",
    "'''x=[0,1]\n",
    "for i in range(1,10):\n",
    "    x.append(x[i]+x[i-1])\n",
    "print(x)'''\n",
    "\n",
    "\n",
    "x=[0,1]\n",
    "fibonacci = lambda n:list(map(lambda y:x.append(x[-1]+x[-2]),range(n-2)))\n",
    "fibonacci(8)\n",
    "print(x)"
   ]
  },
  {
   "cell_type": "code",
   "execution_count": 106,
   "id": "0f617f67",
   "metadata": {},
   "outputs": [],
   "source": [
    "x=[0,1]\n",
    "fibonacci =list(map(lambda y:x.append(x[-1]+x[-2]),range(10)))"
   ]
  },
  {
   "cell_type": "code",
   "execution_count": 107,
   "id": "8b12e910",
   "metadata": {},
   "outputs": [
    {
     "name": "stdout",
     "output_type": "stream",
     "text": [
      "[0, 1, 1, 2, 3, 5, 8, 13, 21, 34, 55, 89]\n"
     ]
    }
   ],
   "source": [
    "print(x)"
   ]
  },
  {
   "cell_type": "code",
   "execution_count": 108,
   "id": "78440624",
   "metadata": {},
   "outputs": [],
   "source": [
    "l=lambda x:x.lower()"
   ]
  },
  {
   "cell_type": "code",
   "execution_count": 109,
   "id": "e78fd534",
   "metadata": {},
   "outputs": [
    {
     "name": "stdout",
     "output_type": "stream",
     "text": [
      "<class 'function'>\n"
     ]
    }
   ],
   "source": [
    "print(type(l))"
   ]
  },
  {
   "cell_type": "code",
   "execution_count": null,
   "id": "2821d817",
   "metadata": {},
   "outputs": [],
   "source": []
  }
 ],
 "metadata": {
  "kernelspec": {
   "display_name": "Python 3 (ipykernel)",
   "language": "python",
   "name": "python3"
  },
  "language_info": {
   "codemirror_mode": {
    "name": "ipython",
    "version": 3
   },
   "file_extension": ".py",
   "mimetype": "text/x-python",
   "name": "python",
   "nbconvert_exporter": "python",
   "pygments_lexer": "ipython3",
   "version": "3.10.9"
  }
 },
 "nbformat": 4,
 "nbformat_minor": 5
}

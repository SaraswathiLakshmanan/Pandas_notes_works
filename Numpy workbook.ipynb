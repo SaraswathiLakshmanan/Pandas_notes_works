{
 "cells": [
  {
   "cell_type": "code",
   "execution_count": 1,
   "id": "4ffb3422",
   "metadata": {},
   "outputs": [],
   "source": [
    "import numpy as np"
   ]
  },
  {
   "cell_type": "code",
   "execution_count": 2,
   "id": "276c87ba",
   "metadata": {},
   "outputs": [
    {
     "data": {
      "text/plain": [
       "array([ 1,  2,  3,  4,  5,  6,  7,  8,  9, 10])"
      ]
     },
     "execution_count": 2,
     "metadata": {},
     "output_type": "execute_result"
    }
   ],
   "source": [
    "arr1=np.arange(1,11);arr1"
   ]
  },
  {
   "cell_type": "code",
   "execution_count": 3,
   "id": "dc730225",
   "metadata": {},
   "outputs": [
    {
     "data": {
      "text/plain": [
       "5.5"
      ]
     },
     "execution_count": 3,
     "metadata": {},
     "output_type": "execute_result"
    }
   ],
   "source": [
    "np.mean(arr1)"
   ]
  },
  {
   "cell_type": "code",
   "execution_count": 4,
   "id": "44734811",
   "metadata": {},
   "outputs": [
    {
     "data": {
      "text/plain": [
       "5.5"
      ]
     },
     "execution_count": 4,
     "metadata": {},
     "output_type": "execute_result"
    }
   ],
   "source": [
    "np.median(arr1)"
   ]
  },
  {
   "cell_type": "code",
   "execution_count": 5,
   "id": "a43c6cd5",
   "metadata": {},
   "outputs": [
    {
     "data": {
      "text/plain": [
       "2.8722813232690143"
      ]
     },
     "execution_count": 5,
     "metadata": {},
     "output_type": "execute_result"
    }
   ],
   "source": [
    "np.std(arr1)"
   ]
  },
  {
   "cell_type": "code",
   "execution_count": 6,
   "id": "d565c2af",
   "metadata": {},
   "outputs": [
    {
     "data": {
      "text/plain": [
       "array([[2, 1, 4],\n",
       "       [6, 8, 8],\n",
       "       [2, 7, 8]])"
      ]
     },
     "execution_count": 6,
     "metadata": {},
     "output_type": "execute_result"
    }
   ],
   "source": [
    "arr2=np.random.randint(1,9,(3,3));arr2"
   ]
  },
  {
   "cell_type": "code",
   "execution_count": 7,
   "id": "6f165c6b",
   "metadata": {},
   "outputs": [
    {
     "data": {
      "text/plain": [
       "array([2, 1, 4, 6, 8, 8, 2, 7, 8])"
      ]
     },
     "execution_count": 7,
     "metadata": {},
     "output_type": "execute_result"
    }
   ],
   "source": [
    "arr3=arr2.flatten();arr3"
   ]
  },
  {
   "cell_type": "code",
   "execution_count": 8,
   "id": "96d2faf3",
   "metadata": {},
   "outputs": [
    {
     "data": {
      "text/plain": [
       "array([[2, 6, 2],\n",
       "       [1, 8, 7],\n",
       "       [4, 8, 8]])"
      ]
     },
     "execution_count": 8,
     "metadata": {},
     "output_type": "execute_result"
    }
   ],
   "source": [
    "np.transpose(arr2)"
   ]
  },
  {
   "cell_type": "code",
   "execution_count": 9,
   "id": "a3becd9f",
   "metadata": {},
   "outputs": [
    {
     "data": {
      "text/plain": [
       "array([0, 1, 2, 3, 4, 5, 6, 7, 8, 9])"
      ]
     },
     "execution_count": 9,
     "metadata": {},
     "output_type": "execute_result"
    }
   ],
   "source": [
    "arr4=np.arange(10);arr4"
   ]
  },
  {
   "cell_type": "code",
   "execution_count": 10,
   "id": "22926efc",
   "metadata": {},
   "outputs": [
    {
     "data": {
      "text/plain": [
       "5"
      ]
     },
     "execution_count": 10,
     "metadata": {},
     "output_type": "execute_result"
    }
   ],
   "source": [
    "arr4[5]"
   ]
  },
  {
   "cell_type": "code",
   "execution_count": 11,
   "id": "e4d06b0b",
   "metadata": {},
   "outputs": [
    {
     "data": {
      "text/plain": [
       "array([2, 3, 4, 5, 6, 7])"
      ]
     },
     "execution_count": 11,
     "metadata": {},
     "output_type": "execute_result"
    }
   ],
   "source": [
    "arr4[2:8]"
   ]
  },
  {
   "cell_type": "code",
   "execution_count": 12,
   "id": "5f61acef",
   "metadata": {},
   "outputs": [
    {
     "data": {
      "text/plain": [
       "array([9, 8, 7, 6, 5, 4, 3, 2, 1, 0])"
      ]
     },
     "execution_count": 12,
     "metadata": {},
     "output_type": "execute_result"
    }
   ],
   "source": [
    "arr4[::-1]"
   ]
  },
  {
   "cell_type": "code",
   "execution_count": 13,
   "id": "dfbadd0b",
   "metadata": {},
   "outputs": [
    {
     "data": {
      "text/plain": [
       "array([[1, 2, 3],\n",
       "       [4, 5, 6],\n",
       "       [7, 8, 9]])"
      ]
     },
     "execution_count": 13,
     "metadata": {},
     "output_type": "execute_result"
    }
   ],
   "source": [
    "arr5=np.arange(1,10).reshape(3,3);arr5"
   ]
  },
  {
   "cell_type": "code",
   "execution_count": 14,
   "id": "a0cd74c6",
   "metadata": {},
   "outputs": [
    {
     "data": {
      "text/plain": [
       "array([[ 2,  4,  6],\n",
       "       [ 8, 10, 12],\n",
       "       [14, 16, 18]])"
      ]
     },
     "execution_count": 14,
     "metadata": {},
     "output_type": "execute_result"
    }
   ],
   "source": [
    "arr5*2"
   ]
  },
  {
   "cell_type": "code",
   "execution_count": 15,
   "id": "3f1bf419",
   "metadata": {},
   "outputs": [
    {
     "data": {
      "text/plain": [
       "array([[ 30,  36,  42],\n",
       "       [ 66,  81,  96],\n",
       "       [102, 126, 150]])"
      ]
     },
     "execution_count": 15,
     "metadata": {},
     "output_type": "execute_result"
    }
   ],
   "source": [
    "arr6=np.dot(arr5,arr5);arr6"
   ]
  },
  {
   "cell_type": "code",
   "execution_count": 16,
   "id": "10c8c02a",
   "metadata": {},
   "outputs": [
    {
     "data": {
      "text/plain": [
       "array([[ 20,  38,  44],\n",
       "       [ 50,  86, 104],\n",
       "       [ 80, 134, 164]])"
      ]
     },
     "execution_count": 16,
     "metadata": {},
     "output_type": "execute_result"
    }
   ],
   "source": [
    "arr6=np.matmul(arr5,arr2);arr6"
   ]
  },
  {
   "cell_type": "code",
   "execution_count": 17,
   "id": "6b75750f",
   "metadata": {},
   "outputs": [
    {
     "data": {
      "text/plain": [
       "array([[1, 2, 3],\n",
       "       [4, 5, 6],\n",
       "       [7, 8, 9]])"
      ]
     },
     "execution_count": 17,
     "metadata": {},
     "output_type": "execute_result"
    }
   ],
   "source": [
    "a=np.arange(1,10).reshape(3,3);a"
   ]
  },
  {
   "cell_type": "code",
   "execution_count": 18,
   "id": "fefd0584",
   "metadata": {},
   "outputs": [
    {
     "data": {
      "text/plain": [
       "array([[1, 2, 3],\n",
       "       [4, 5, 6],\n",
       "       [7, 8, 9]])"
      ]
     },
     "execution_count": 18,
     "metadata": {},
     "output_type": "execute_result"
    }
   ],
   "source": [
    "b=np.arange(1,10).reshape(3,3);b"
   ]
  },
  {
   "cell_type": "code",
   "execution_count": 19,
   "id": "d299981f",
   "metadata": {},
   "outputs": [
    {
     "data": {
      "text/plain": [
       "array([[ 30,  36,  42],\n",
       "       [ 66,  81,  96],\n",
       "       [102, 126, 150]])"
      ]
     },
     "execution_count": 19,
     "metadata": {},
     "output_type": "execute_result"
    }
   ],
   "source": [
    "np.dot(a,b)"
   ]
  },
  {
   "cell_type": "code",
   "execution_count": 20,
   "id": "4a1a5ad6",
   "metadata": {},
   "outputs": [
    {
     "data": {
      "text/plain": [
       "-9.51619735392994e-16"
      ]
     },
     "execution_count": 20,
     "metadata": {},
     "output_type": "execute_result"
    }
   ],
   "source": [
    "np.linalg.det(a)"
   ]
  },
  {
   "cell_type": "code",
   "execution_count": 21,
   "id": "69d787c7",
   "metadata": {},
   "outputs": [
    {
     "data": {
      "text/plain": [
       "array([[ 3.15251974e+15, -6.30503948e+15,  3.15251974e+15],\n",
       "       [-6.30503948e+15,  1.26100790e+16, -6.30503948e+15],\n",
       "       [ 3.15251974e+15, -6.30503948e+15,  3.15251974e+15]])"
      ]
     },
     "execution_count": 21,
     "metadata": {},
     "output_type": "execute_result"
    }
   ],
   "source": [
    "np.linalg.inv(b)"
   ]
  },
  {
   "cell_type": "code",
   "execution_count": 22,
   "id": "4eeb9018",
   "metadata": {},
   "outputs": [
    {
     "data": {
      "text/plain": [
       "array([[ 1,  2,  3,  4,  5,  6],\n",
       "       [ 7,  8,  9, 10, 11, 12],\n",
       "       [13, 14, 15, 16, 17, 18],\n",
       "       [19, 20, 21, 22, 23, 24],\n",
       "       [25, 26, 27, 28, 29, 30],\n",
       "       [31, 32, 33, 34, 35, 36]])"
      ]
     },
     "execution_count": 22,
     "metadata": {},
     "output_type": "execute_result"
    }
   ],
   "source": [
    "a1=np.arange(1,37).reshape(6,6);a1"
   ]
  },
  {
   "cell_type": "code",
   "execution_count": 23,
   "id": "d9b51138",
   "metadata": {},
   "outputs": [
    {
     "data": {
      "text/plain": [
       "array([ 1,  8, 15, 22, 29, 36])"
      ]
     },
     "execution_count": 23,
     "metadata": {},
     "output_type": "execute_result"
    }
   ],
   "source": [
    "np.diag(a1)"
   ]
  },
  {
   "cell_type": "code",
   "execution_count": 24,
   "id": "1a446db0",
   "metadata": {},
   "outputs": [
    {
     "data": {
      "text/plain": [
       "array([31, 26, 21, 16, 11,  6])"
      ]
     },
     "execution_count": 24,
     "metadata": {},
     "output_type": "execute_result"
    }
   ],
   "source": [
    "np.flipud(np.diag(np.fliplr(a1)))"
   ]
  },
  {
   "cell_type": "code",
   "execution_count": 25,
   "id": "e84f461d",
   "metadata": {},
   "outputs": [
    {
     "data": {
      "text/plain": [
       "array([ 3,  6,  9, 12, 15, 18, 21, 24, 27, 30, 33, 36])"
      ]
     },
     "execution_count": 25,
     "metadata": {},
     "output_type": "execute_result"
    }
   ],
   "source": [
    "a1[a1%3==0]"
   ]
  },
  {
   "cell_type": "code",
   "execution_count": 26,
   "id": "a7d3df6b",
   "metadata": {},
   "outputs": [
    {
     "data": {
      "text/plain": [
       "array([ 4, 95, 44, 38, 41, 60, 72, 29,  1, 70, 56,  8, 89, 21, 25, 57, 52,\n",
       "       89, 74, 61, 54, 44, 96, 45, 47, 97, 45, 60, 79, 27,  9, 54, 20, 99,\n",
       "        2, 74, 16, 57, 52,  3, 48, 55, 29, 59, 86, 35, 98, 28, 62, 52,  3,\n",
       "       72, 83, 87, 99, 85, 47, 98, 77, 85, 72, 19, 87, 49,  9, 12, 33, 19,\n",
       "       90, 67,  4, 92, 54, 38, 52, 21, 53, 37, 35,  7, 37, 70, 81, 18, 26,\n",
       "       73, 97, 20,  3, 73, 16, 78,  8, 37, 65, 56, 79,  8, 32, 89, 54, 29,\n",
       "       18,  5,  2, 62, 72, 13, 44, 33,  2, 29, 94, 82,  4, 96, 50, 44, 58,\n",
       "       45, 60, 30, 65, 90, 42, 59, 49, 27, 44, 70, 85, 12, 10, 96,  2, 16,\n",
       "       53, 57, 11, 23, 22, 27, 36, 31,  7, 23, 98, 99, 94, 87, 96,  5, 71,\n",
       "       91, 64, 92, 92, 46, 21, 80, 61, 31, 43, 59, 28,  9, 41, 59, 88,  3,\n",
       "       32, 38, 99, 12, 40, 66, 43, 34,  1,  6, 67, 77, 36,  4,  7, 86, 94,\n",
       "       88, 53, 78, 74, 53, 27, 69, 13, 66,  3, 74, 33, 51, 33, 44, 30, 62,\n",
       "       63, 80, 24, 74,  3, 45, 28, 87, 95, 15, 11, 79, 65, 29, 16, 23, 23,\n",
       "       56, 19, 62, 35, 26, 99, 55, 39, 20, 42, 44, 66, 46, 24, 78, 22, 87,\n",
       "       88, 43, 12,  8,  5,  3, 92, 47, 21, 55, 51, 78, 33, 71, 75, 84, 68,\n",
       "       90, 33, 75,  9, 68,  4, 24, 19, 11, 57, 28, 48, 64, 86, 55, 65, 60,\n",
       "        9, 43,  6, 85, 50, 46,  9, 72, 23, 26, 74, 66, 49, 82, 73, 10, 70,\n",
       "       82, 51, 16, 23, 13, 54, 37, 58, 39, 57, 35, 71, 63, 66, 72, 80, 76,\n",
       "       68, 50, 34, 52, 48, 15, 62, 93, 14, 55, 89, 81, 99,  4, 48, 84,  1,\n",
       "       26, 43, 44, 33, 51, 32, 83, 21, 58, 22, 70, 44, 60, 47, 48, 94, 13,\n",
       "       16, 22, 94, 14, 21, 70, 88, 64, 46, 30, 42, 34, 35, 83, 31, 41,  5,\n",
       "       60, 83, 67, 21, 23, 75, 70, 82, 69, 37, 92, 48, 99,  5,  6, 57, 70,\n",
       "       12, 84, 93,  7, 13, 56, 65, 16, 51,  7, 99, 96, 20, 78, 55, 14, 38,\n",
       "       26, 43, 32,  5, 46, 74, 55, 57, 44,  4, 70, 93, 26, 66, 67, 90, 97,\n",
       "       49, 24, 46, 70,  3, 66, 76, 45, 15, 49, 62, 41, 42, 48, 85, 62, 67,\n",
       "        9, 21, 50, 10,  2, 95, 61, 67, 93,  3, 88, 23, 81, 33,  9, 25, 73,\n",
       "       32, 87, 42, 63, 25, 49, 17, 17, 29, 41, 45, 94,  6, 56, 91, 98, 38,\n",
       "       43, 49, 19, 15, 57, 59, 68, 83, 77, 80, 87, 62, 21, 85, 42, 71, 66,\n",
       "       22, 65, 10, 26, 75, 50, 40, 53, 57, 60, 30, 46, 99, 39, 60, 91,  9,\n",
       "       17, 84, 37, 51, 28, 63, 12, 71, 81, 89, 50, 99, 29, 54, 69, 90, 60,\n",
       "       59, 95, 70, 23, 17, 30, 26, 80, 66, 11, 56, 71, 62, 71, 22, 86, 17,\n",
       "       52, 23, 88, 81,  8, 15, 48, 14, 91, 70,  7, 12, 23, 88, 51,  9, 61,\n",
       "       47, 10, 57, 83, 30, 12, 90, 92, 26, 36, 75, 56, 36, 42, 19, 38, 24,\n",
       "       91, 30, 99, 19, 46, 75, 33, 10, 58, 33, 59, 25, 47,  1, 99, 74, 12,\n",
       "       45, 75, 76, 90, 91, 51, 32, 15, 65,  9, 25, 20, 75, 81, 59, 95,  9,\n",
       "       23, 32, 44, 51, 46, 21, 44, 47, 45, 87, 61, 32, 43, 63, 20, 54, 87,\n",
       "       73, 44, 63,  5, 61, 44, 61, 34, 91, 85, 54, 61, 62, 34, 13, 11, 31,\n",
       "       89, 74, 54, 40, 93, 95, 57, 41, 65, 15, 47, 56, 89, 72, 25, 88, 95,\n",
       "       77, 44, 52, 27, 61, 51, 89, 35, 84, 56, 29, 98, 13, 32, 64, 66, 73,\n",
       "       27,  9, 19, 96, 54, 59, 49,  8, 90, 33, 16, 68, 35, 90, 63, 70, 93,\n",
       "       11, 67,  9, 64, 77, 41, 79, 15, 30, 50, 34, 42, 57, 54, 97, 60, 82,\n",
       "       48, 89, 67, 54, 70, 29, 17,  4, 59, 19, 23, 11, 27, 75, 43, 87, 72,\n",
       "       26, 79, 79, 73, 82, 94, 39, 62, 36, 68, 32, 61, 72, 31,  2,  5,  2,\n",
       "       32, 61, 94, 83, 86,  6, 46, 12, 21, 70, 30,  4, 39, 98, 79, 12, 43,\n",
       "       34, 88, 26, 38, 36, 80, 85, 32, 50, 81, 28, 29, 26,  5, 39, 34, 85,\n",
       "       60,  2, 90, 27, 81, 68, 64, 45, 28, 14, 83, 27,  9, 39, 95, 99, 86,\n",
       "       50, 24, 85, 68, 21, 74, 81, 71, 25,  9, 95, 45, 83, 38, 73, 47, 33,\n",
       "       88,  5, 31, 28,  8, 28, 59, 39, 30, 86, 47,  5, 24, 90, 82, 45, 70,\n",
       "       92, 89, 13, 38, 45,  5, 55, 38, 99, 79, 76, 38,  9,  5,  8,  9, 67,\n",
       "       20, 39, 17, 69, 48, 55, 65, 56, 43, 81, 56, 70, 84, 77, 87, 26, 67,\n",
       "       50, 82,  3, 52, 34, 50, 18, 46, 36, 12, 87, 10, 94, 86, 39, 94, 89,\n",
       "       10, 95, 17, 18, 56, 10, 30, 22, 15, 28,  7, 33, 45, 40, 11, 99, 81,\n",
       "       86, 45, 99, 18, 29, 47, 96, 33, 13, 83, 25,  9, 17, 23, 77, 69, 53,\n",
       "       93, 28, 84, 68, 65, 27, 45, 59, 98, 78, 14,  3, 26,  4, 18, 65, 91,\n",
       "       92, 77,  5, 10, 62, 76, 35, 51,  2, 93, 13, 84, 76, 83, 88, 31, 97,\n",
       "       73, 60, 99, 60, 35, 13, 42, 90, 38, 66, 48,  6, 41, 68, 26, 36, 61,\n",
       "       20, 28, 20, 50, 30, 45, 87, 18, 10, 85, 23, 93, 17, 90, 59, 38, 98,\n",
       "       37, 46, 10, 72, 57,  3, 29, 76, 18, 82, 43, 24,  5, 55, 38, 10, 71,\n",
       "       43, 90, 92, 23, 56, 41,  9,  3, 31, 85,  3, 30, 59, 73])"
      ]
     },
     "execution_count": 26,
     "metadata": {},
     "output_type": "execute_result"
    }
   ],
   "source": [
    "a2=np.random.randint(1,100,1000);a2"
   ]
  },
  {
   "cell_type": "code",
   "execution_count": 27,
   "id": "3acc07c2",
   "metadata": {},
   "outputs": [
    {
     "data": {
      "text/plain": [
       "49.456"
      ]
     },
     "execution_count": 27,
     "metadata": {},
     "output_type": "execute_result"
    }
   ],
   "source": [
    "np.mean(a2)"
   ]
  },
  {
   "cell_type": "code",
   "execution_count": 28,
   "id": "e79c87b5",
   "metadata": {},
   "outputs": [
    {
     "data": {
      "text/plain": [
       "48.5"
      ]
     },
     "execution_count": 28,
     "metadata": {},
     "output_type": "execute_result"
    }
   ],
   "source": [
    "np.median(a2)"
   ]
  },
  {
   "cell_type": "code",
   "execution_count": 29,
   "id": "75a6e540",
   "metadata": {},
   "outputs": [
    {
     "data": {
      "text/plain": [
       "28.289857970657966"
      ]
     },
     "execution_count": 29,
     "metadata": {},
     "output_type": "execute_result"
    }
   ],
   "source": [
    "np.std(a2)"
   ]
  },
  {
   "cell_type": "code",
   "execution_count": 30,
   "id": "f59b7f3d",
   "metadata": {},
   "outputs": [
    {
     "data": {
      "text/plain": [
       "array([47, 17, 51, 75,  2, 89, 92,  8, 94,  1, 19, 45, 92, 15, 64, 11, 57,\n",
       "       58, 90, 66, 62, 35, 23, 33, 74, 63, 31, 88, 68, 22, 99, 47, 33,  9,\n",
       "       59, 61, 48, 79, 18, 39, 69, 98, 83, 19, 45, 97, 47, 29, 17, 81, 33,\n",
       "       23, 86, 25, 66, 38,  9, 78,  8, 52, 31, 72, 17, 23, 25, 76, 45, 26,\n",
       "       33, 86, 60, 12, 21, 59, 94, 52, 49, 53,  7, 21, 42, 32, 61, 30, 62,\n",
       "       88, 64, 62, 15, 83, 81, 44, 23, 48, 74, 20, 39, 49, 12, 56])"
      ]
     },
     "execution_count": 30,
     "metadata": {},
     "output_type": "execute_result"
    }
   ],
   "source": [
    "sample=np.random.choice(a2,size=100,replace=True);sample"
   ]
  },
  {
   "cell_type": "code",
   "execution_count": 31,
   "id": "791f779c",
   "metadata": {},
   "outputs": [
    {
     "data": {
      "text/plain": [
       "array([ 7.475, 95.575])"
      ]
     },
     "execution_count": 31,
     "metadata": {},
     "output_type": "execute_result"
    }
   ],
   "source": [
    "np.percentile(sample,[2.5,97.5])"
   ]
  },
  {
   "cell_type": "code",
   "execution_count": 32,
   "id": "274a6b3c",
   "metadata": {},
   "outputs": [],
   "source": [
    "product_ids = np.array([1, 2, 3, 4, 5])\n",
    "quantities = np.array([10, 15, 5, 8, 12])\n",
    "prices = np.array([20.5, 10.2, 15.8, 12.6, 18.9])"
   ]
  },
  {
   "cell_type": "code",
   "execution_count": 33,
   "id": "86f947bf",
   "metadata": {},
   "outputs": [
    {
     "data": {
      "text/plain": [
       "array([205. , 153. ,  79. , 100.8, 226.8])"
      ]
     },
     "execution_count": 33,
     "metadata": {},
     "output_type": "execute_result"
    }
   ],
   "source": [
    "a1=np.array(quantities*prices);a1"
   ]
  },
  {
   "cell_type": "code",
   "execution_count": 34,
   "id": "fb912860",
   "metadata": {},
   "outputs": [
    {
     "data": {
      "text/plain": [
       "5"
      ]
     },
     "execution_count": 34,
     "metadata": {},
     "output_type": "execute_result"
    }
   ],
   "source": [
    "product_ids[np.argmax(a1)]"
   ]
  },
  {
   "cell_type": "code",
   "execution_count": 35,
   "id": "3af23fb4",
   "metadata": {},
   "outputs": [
    {
     "data": {
      "text/plain": [
       "0.312"
      ]
     },
     "execution_count": 35,
     "metadata": {},
     "output_type": "execute_result"
    }
   ],
   "source": [
    "np.mean(prices)/np.sum(quantities)"
   ]
  }
 ],
 "metadata": {
  "kernelspec": {
   "display_name": "Python 3 (ipykernel)",
   "language": "python",
   "name": "python3"
  },
  "language_info": {
   "codemirror_mode": {
    "name": "ipython",
    "version": 3
   },
   "file_extension": ".py",
   "mimetype": "text/x-python",
   "name": "python",
   "nbconvert_exporter": "python",
   "pygments_lexer": "ipython3",
   "version": "3.10.9"
  }
 },
 "nbformat": 4,
 "nbformat_minor": 5
}
